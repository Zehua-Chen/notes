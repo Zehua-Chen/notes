{
 "cells": [
  {
   "cell_type": "markdown",
   "metadata": {},
   "source": [
    "# Record"
   ]
  },
  {
   "cell_type": "markdown",
   "metadata": {},
   "source": [
    "## Definition"
   ]
  },
  {
   "cell_type": "code",
   "execution_count": null,
   "metadata": {
    "dotnet_interactive": {
     "language": "fsharp"
    }
   },
   "outputs": [],
   "source": [
    "// Type on single line\n",
    "[<Struct>]\n",
    "type Vector2 = { X: float; Y: float }\n",
    "\n",
    "// Type on multi line\n",
    "[<Struct>]\n",
    "type Vector3 =\n",
    "  { X : float\n",
    "    Y : float \n",
    "    Z : float }\n",
    "\n",
    "type Character =\n",
    "  { Position: Vector3 \n",
    "    mutable Rotation: Vector3 }"
   ]
  },
  {
   "cell_type": "markdown",
   "metadata": {},
   "source": [
    "- Properties are readonly unless marked with `mutable`\n",
    "- Mark a record with `[<Struct>]` to make the record a struct to reduce GC"
   ]
  },
  {
   "cell_type": "markdown",
   "metadata": {},
   "source": [
    "## Instantiation"
   ]
  },
  {
   "cell_type": "code",
   "execution_count": null,
   "metadata": {
    "dotnet_interactive": {
     "language": "fsharp"
    }
   },
   "outputs": [],
   "source": [
    "// Vector3\n",
    "let vec3 = { X = 1.0; Y = 2.0; Z = 3.0 }\n",
    "\n",
    "// Vector2\n",
    "let vec2 = { Vector2.X = 0; Y = 2.0 }"
   ]
  },
  {
   "cell_type": "markdown",
   "metadata": {},
   "source": [
    "- To disambiguate when records have the same set of fields, use\n",
    "  `Record.Property = <Value>`"
   ]
  },
  {
   "cell_type": "markdown",
   "metadata": {},
   "source": [
    "## Mutation"
   ]
  },
  {
   "cell_type": "code",
   "execution_count": null,
   "metadata": {
    "dotnet_interactive": {
     "language": "fsharp"
    }
   },
   "outputs": [
    {
     "data": {
      "text/html": [
       "<table><thead><tr><th>X</th><th>Y</th></tr></thead><tbody><tr><td><div class=\"dni-plaintext\">2</div></td><td><div class=\"dni-plaintext\">2</div></td></tr></tbody></table>"
      ]
     },
     "metadata": {},
     "output_type": "display_data"
    }
   ],
   "source": [
    "let newVec2 = { vec2 with X = 2.0 }\n",
    "newVec2"
   ]
  },
  {
   "cell_type": "code",
   "execution_count": null,
   "metadata": {
    "dotnet_interactive": {
     "language": "fsharp"
    }
   },
   "outputs": [],
   "source": []
  }
 ],
 "metadata": {
  "kernelspec": {
   "display_name": ".NET (F#)",
   "language": "F#",
   "name": ".net-fsharp"
  },
  "language_info": {
   "name": "F#"
  }
 },
 "nbformat": 4,
 "nbformat_minor": 2
}
