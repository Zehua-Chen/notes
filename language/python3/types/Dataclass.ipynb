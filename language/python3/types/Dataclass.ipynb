{
 "cells": [
  {
   "cell_type": "markdown",
   "metadata": {},
   "source": [
    "# Dataclass"
   ]
  },
  {
   "cell_type": "code",
   "execution_count": 1,
   "metadata": {},
   "outputs": [],
   "source": [
    "from dataclasses import dataclass, field\n",
    "from IPython.display import display"
   ]
  },
  {
   "cell_type": "markdown",
   "metadata": {},
   "source": [
    "- Data classes are\n",
    "  - **Mutable** by default\n",
    "  - **Not unpackable**\n",
    "- Data class automatically implement \n",
    "  - `__str__`\n",
    "- Data class can implement custom methods\n",
    "- Useful for functional programming"
   ]
  },
  {
   "cell_type": "markdown",
   "metadata": {},
   "source": [
    "## Fields\n",
    "\n",
    "```py\n",
    "field_a: t\n",
    "field_with_default: t = value\n",
    "field_b = field(...)\n",
    "```\n",
    "\n",
    "- `field` offers more control for fields"
   ]
  },
  {
   "cell_type": "code",
   "execution_count": 2,
   "metadata": {},
   "outputs": [
    {
     "data": {
      "text/plain": [
       "Person(name='peter', age=0)"
      ]
     },
     "metadata": {},
     "output_type": "display_data"
    },
    {
     "data": {
      "text/plain": [
       "Person(name='peter', age=11)"
      ]
     },
     "metadata": {},
     "output_type": "display_data"
    }
   ],
   "source": [
    "@dataclass\n",
    "class Person:\n",
    "    name: str\n",
    "    age: int = 0\n",
    "    gender: str = field(default=\"male\", repr=False)\n",
    "\n",
    "\n",
    "display(Person(\"peter\"))\n",
    "display(Person(\"peter\", age=11, gender=\"male\"))"
   ]
  },
  {
   "cell_type": "markdown",
   "metadata": {},
   "source": [
    "## Dataclass Options"
   ]
  },
  {
   "cell_type": "markdown",
   "metadata": {},
   "source": [
    "If `frozen=True` then the data class is readonly"
   ]
  },
  {
   "cell_type": "code",
   "execution_count": 3,
   "metadata": {},
   "outputs": [
    {
     "name": "stdout",
     "output_type": "stream",
     "text": [
      "cannot assign to field 'name'\n"
     ]
    }
   ],
   "source": [
    "@dataclass(frozen=True, eq=True)\n",
    "class ReadonlyPerson:\n",
    "    name: str\n",
    "    age: int = 0\n",
    "    gender: str = field(default=\"male\", repr=False)\n",
    "\n",
    "try:\n",
    "    readonly_person = ReadonlyPerson(\"peter\")\n",
    "    readonly_person.name = \"Griffin\"\n",
    "except Exception as e:\n",
    "    print(e)"
   ]
  },
  {
   "cell_type": "markdown",
   "metadata": {},
   "source": [
    "- If `eq=True`, then `__eq__` is provided\n",
    "- If `order=True`, then comparison methods are provided"
   ]
  },
  {
   "cell_type": "code",
   "execution_count": 4,
   "metadata": {},
   "outputs": [
    {
     "data": {
      "text/plain": [
       "True"
      ]
     },
     "metadata": {},
     "output_type": "display_data"
    }
   ],
   "source": [
    "display(ReadonlyPerson(\"griffin\") == ReadonlyPerson(\"griffin\"))"
   ]
  },
  {
   "cell_type": "markdown",
   "metadata": {},
   "source": [
    "If `eq=True` and `frozen=True`, the dataclass is hashable"
   ]
  },
  {
   "cell_type": "code",
   "execution_count": 5,
   "metadata": {},
   "outputs": [
    {
     "data": {
      "text/plain": [
       "-6067115526612897948"
      ]
     },
     "metadata": {},
     "output_type": "display_data"
    }
   ],
   "source": [
    "display(hash(ReadonlyPerson(\"griffin\")))\n"
   ]
  },
  {
   "cell_type": "markdown",
   "metadata": {},
   "source": [
    "## Modifications"
   ]
  },
  {
   "cell_type": "code",
   "execution_count": 6,
   "metadata": {},
   "outputs": [],
   "source": [
    "from dataclasses import replace"
   ]
  },
  {
   "cell_type": "markdown",
   "metadata": {},
   "source": [
    "`replace(obj, changes...)` copy the dataclass, changes the fields of copy and\n",
    "then returns the copy "
   ]
  },
  {
   "cell_type": "code",
   "execution_count": 7,
   "metadata": {},
   "outputs": [
    {
     "data": {
      "text/plain": [
       "Person(name='Peter', age=0)"
      ]
     },
     "metadata": {},
     "output_type": "display_data"
    }
   ],
   "source": [
    "display(replace(Person(\"Griffin\"), name=\"Peter\"))"
   ]
  },
  {
   "cell_type": "markdown",
   "metadata": {},
   "source": [
    "## Tuple and Dictionary"
   ]
  },
  {
   "cell_type": "code",
   "execution_count": 8,
   "metadata": {},
   "outputs": [],
   "source": [
    "from dataclasses import asdict, astuple"
   ]
  },
  {
   "cell_type": "code",
   "execution_count": 9,
   "metadata": {},
   "outputs": [
    {
     "data": {
      "text/plain": [
       "{'name': 'griffin', 'age': 0, 'gender': 'male'}"
      ]
     },
     "execution_count": 9,
     "metadata": {},
     "output_type": "execute_result"
    }
   ],
   "source": [
    "asdict(Person(\"griffin\"))"
   ]
  },
  {
   "cell_type": "code",
   "execution_count": 10,
   "metadata": {},
   "outputs": [
    {
     "data": {
      "text/plain": [
       "('griffin', 0, 'male')"
      ]
     },
     "execution_count": 10,
     "metadata": {},
     "output_type": "execute_result"
    }
   ],
   "source": [
    "astuple(Person(\"griffin\"))"
   ]
  },
  {
   "cell_type": "code",
   "execution_count": null,
   "metadata": {},
   "outputs": [],
   "source": []
  }
 ],
 "metadata": {
  "interpreter": {
   "hash": "2e4dc018a57432d7142eb35ddc44af54a9893f5410d097779ec345b750f1131d"
  },
  "kernelspec": {
   "display_name": "Python 3.9.10 ('coms4995')",
   "language": "python",
   "name": "python3"
  },
  "language_info": {
   "codemirror_mode": {
    "name": "ipython",
    "version": 3
   },
   "file_extension": ".py",
   "mimetype": "text/x-python",
   "name": "python",
   "nbconvert_exporter": "python",
   "pygments_lexer": "ipython3",
   "version": "3.10.2"
  },
  "orig_nbformat": 4
 },
 "nbformat": 4,
 "nbformat_minor": 2
}
