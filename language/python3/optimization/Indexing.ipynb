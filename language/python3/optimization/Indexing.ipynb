{
 "cells": [
  {
   "cell_type": "markdown",
   "metadata": {},
   "source": [
    "# Indexing"
   ]
  },
  {
   "cell_type": "markdown",
   "metadata": {},
   "source": [
    "## Performance Rank\n",
    "\n",
    "1. `list()`\n",
    "2. `dict()`\n",
    "3. Data structures from `numpy`"
   ]
  },
  {
   "cell_type": "code",
   "execution_count": 1,
   "metadata": {},
   "outputs": [],
   "source": [
    "import time\n",
    "import numpy as np"
   ]
  },
  {
   "cell_type": "markdown",
   "metadata": {},
   "source": [
    "## List"
   ]
  },
  {
   "cell_type": "code",
   "execution_count": 2,
   "metadata": {},
   "outputs": [
    {
     "name": "stdout",
     "output_type": "stream",
     "text": [
      "list time = 0.5064232349395752\n"
     ]
    }
   ],
   "source": [
    "start_time = time.time()\n",
    "\n",
    "data = list()\n",
    "result = 0\n",
    "\n",
    "for i in range(0, 1000):\n",
    "    data.append(i)\n",
    "\n",
    "for i in range(0, 10000):\n",
    "    for i in range(0, 1000):\n",
    "        result += 1\n",
    "\n",
    "print(\"list time = {}\".format(time.time() - start_time))"
   ]
  },
  {
   "cell_type": "markdown",
   "metadata": {},
   "source": [
    "## Dictionary"
   ]
  },
  {
   "cell_type": "code",
   "execution_count": 3,
   "metadata": {},
   "outputs": [
    {
     "name": "stdout",
     "output_type": "stream",
     "text": [
      "dict time = 0.8112063407897949\n"
     ]
    }
   ],
   "source": [
    "start_time = time.time()\n",
    "data = dict()\n",
    "result = 0\n",
    "\n",
    "for i in range(0, 1000):\n",
    "    data[i] = i\n",
    "\n",
    "for i in range(0, 10000):\n",
    "    for i in range(0, 1000):\n",
    "        result += data[i]\n",
    "\n",
    "print(\"dict time = {}\".format(time.time() - start_time))"
   ]
  },
  {
   "cell_type": "markdown",
   "metadata": {},
   "source": [
    "## Numpy"
   ]
  },
  {
   "cell_type": "code",
   "execution_count": 4,
   "metadata": {},
   "outputs": [
    {
     "name": "stdout",
     "output_type": "stream",
     "text": [
      "numpy time = 1.140794038772583\n"
     ]
    }
   ],
   "source": [
    "start_time = time.time()\n",
    "data = np.ndarray(1000)\n",
    "result = 0\n",
    "\n",
    "for i in range(0, 1000):\n",
    "    data[i] = i\n",
    "\n",
    "for i in range(0, 10000):\n",
    "    for i in range(0, 1000):\n",
    "        result += data[i]\n",
    "\n",
    "print(\"numpy time = {}\".format(time.time() - start_time))"
   ]
  },
  {
   "cell_type": "code",
   "execution_count": null,
   "metadata": {},
   "outputs": [],
   "source": []
  }
 ],
 "metadata": {
  "interpreter": {
   "hash": "2e4dc018a57432d7142eb35ddc44af54a9893f5410d097779ec345b750f1131d"
  },
  "kernelspec": {
   "display_name": "Python 3.9.10 ('coms4995')",
   "language": "python",
   "name": "python3"
  },
  "language_info": {
   "codemirror_mode": {
    "name": "ipython",
    "version": 3
   },
   "file_extension": ".py",
   "mimetype": "text/x-python",
   "name": "python",
   "nbconvert_exporter": "python",
   "pygments_lexer": "ipython3",
   "version": "3.9.10"
  },
  "orig_nbformat": 4
 },
 "nbformat": 4,
 "nbformat_minor": 2
}
