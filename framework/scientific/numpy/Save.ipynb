{
 "cells": [
  {
   "cell_type": "markdown",
   "metadata": {},
   "source": [
    "# Overview\n",
    "\n",
    "Numpy offers two ways of saving arrays on disks\n",
    "\n",
    "- `.npy`: saving a single array into a single file\n",
    "- `.npz`: saving multiple array into a single file"
   ]
  },
  {
   "cell_type": "code",
   "execution_count": null,
   "metadata": {},
   "outputs": [],
   "source": [
    "import numpy as np\n",
    "from tempfile import TemporaryFile"
   ]
  },
  {
   "cell_type": "code",
   "execution_count": null,
   "metadata": {},
   "outputs": [
    {
     "data": {
      "text/plain": [
       "array([0, 1, 2, 3, 4, 5, 6, 7, 8, 9])"
      ]
     },
     "execution_count": null,
     "metadata": {},
     "output_type": "execute_result"
    }
   ],
   "source": [
    "npy = TemporaryFile()\n",
    "data = np.arange(10)\n",
    "\n",
    "np.save(npy, data)\n",
    "\n",
    "npy.seek(0)\n",
    "\n",
    "loaded_data = np.load(npy)\n",
    "loaded_data"
   ]
  },
  {
   "cell_type": "markdown",
   "metadata": {},
   "source": [
    "- `np.savez_compressed` can be used to save a compress file\n",
    "- Unnamed array argument will be saved as `arr_x`"
   ]
  },
  {
   "cell_type": "code",
   "execution_count": null,
   "metadata": {},
   "outputs": [
    {
     "name": "stdout",
     "output_type": "stream",
     "text": [
      "['key', 'arr_0']\n",
      "[ 0  1  2  3  4  5  6  7  8  9 10]\n"
     ]
    }
   ],
   "source": [
    "npz = TemporaryFile()\n",
    "data_1 = np.arange(10)\n",
    "data_2 = np.arange(11)\n",
    "\n",
    "np.savez(npz, data_1, key=data_2)\n",
    "\n",
    "npz.seek(0)\n",
    "\n",
    "loaded = np.load(npz)\n",
    "\n",
    "print(loaded.files)\n",
    "print(loaded[\"key\"])"
   ]
  },
  {
   "cell_type": "code",
   "execution_count": null,
   "metadata": {},
   "outputs": [],
   "source": []
  }
 ],
 "metadata": {
  "kernelspec": {
   "display_name": "Python 3.10.2 ('jupyter')",
   "language": "python",
   "name": "python3"
  }
 },
 "nbformat": 4,
 "nbformat_minor": 2
}
