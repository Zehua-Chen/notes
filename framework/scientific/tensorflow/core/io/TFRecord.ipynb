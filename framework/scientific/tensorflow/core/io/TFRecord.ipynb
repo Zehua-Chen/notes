{
 "cells": [
  {
   "cell_type": "code",
   "execution_count": null,
   "metadata": {},
   "outputs": [],
   "source": [
    "import tensorflow as tf\n",
    "import numpy as np"
   ]
  },
  {
   "cell_type": "markdown",
   "metadata": {},
   "source": [
    "# TF Record"
   ]
  },
  {
   "cell_type": "markdown",
   "metadata": {},
   "source": [
    "## Designing TF Records\n",
    "\n",
    "- TF records should be split into multiple files to take advantage of parallel \n",
    "  IO \n",
    "- There should be 10 times as many files as there are hosts reading the data\n",
    "\n",
    "### Size\n",
    "\n",
    "- The size of TF records should be at least >10MB and ideally >100MB\n",
    "- TF records that are too big can be slow to read"
   ]
  },
  {
   "cell_type": "markdown",
   "metadata": {},
   "source": [
    "## Writing TF Record"
   ]
  },
  {
   "cell_type": "code",
   "execution_count": null,
   "metadata": {},
   "outputs": [],
   "source": [
    "def float_list_feature(values):\n",
    "    return tf.train.Feature(float_list=tf.train.FloatList(value=values))\n",
    "\n",
    "def string_list_feature(values):\n",
    "    values = map(lambda x: bytes(x, \"UTF-8\"), values)\n",
    "    values = list(values)\n",
    "    return tf.train.Feature(bytes_list=tf.train.BytesList(value=values))\n",
    "\n",
    "def int64_list_feature(values):\n",
    "    return tf.train.Feature(int64_list=tf.train.Int64List(value=values))"
   ]
  },
  {
   "cell_type": "code",
   "execution_count": null,
   "metadata": {},
   "outputs": [],
   "source": [
    "def serialize_label(label):\n",
    "    feature = {\n",
    "        \"location\": int64_list_feature(label[\"location\"]),\n",
    "        \"name\": string_list_feature([label[\"name\"]]),\n",
    "        \"data\": float_list_feature(np.array([1, 2, 3], dtype=np.float32))\n",
    "    }\n",
    "\n",
    "    example = tf.train.Example(features=tf.train.Features(feature=feature))\n",
    "\n",
    "    return example.SerializeToString()"
   ]
  },
  {
   "cell_type": "code",
   "execution_count": null,
   "metadata": {},
   "outputs": [
    {
     "data": {
      "text/plain": [
       "b'\\nJ\\n\\x13\\n\\x08location\\x12\\x07\\x1a\\x05\\n\\x03\\x00\\x01\\x00\\n\\x19\\n\\x04name\\x12\\x11\\n\\x0f\\n\\rpeter griffin\\n\\x18\\n\\x04data\\x12\\x10\\x12\\x0e\\n\\x0c\\x00\\x00\\x80?\\x00\\x00\\x00@\\x00\\x00@@'"
      ]
     },
     "execution_count": null,
     "metadata": {},
     "output_type": "execute_result"
    }
   ],
   "source": [
    "serialize_label({ \"name\": \"peter griffin\", \"location\": [0, 1, 0]})"
   ]
  },
  {
   "cell_type": "code",
   "execution_count": null,
   "metadata": {},
   "outputs": [],
   "source": [
    "with tf.io.TFRecordWriter(\"people.tfrecord\") as writer:\n",
    "    writer.write(\n",
    "        serialize_label({ \"name\": \"peter griffin\", \"location\": [0, 1, 0]}))\n",
    "\n",
    "    writer.write(\n",
    "        serialize_label({ \"name\": \"stewie griffin\", \"location\": [1, 0, 0]}))"
   ]
  },
  {
   "cell_type": "markdown",
   "metadata": {},
   "source": [
    "## Reading TF Record"
   ]
  },
  {
   "cell_type": "code",
   "execution_count": null,
   "metadata": {},
   "outputs": [],
   "source": [
    "raw_ds = tf.data.TFRecordDataset(\"people.tfrecord\")"
   ]
  },
  {
   "cell_type": "code",
   "execution_count": null,
   "metadata": {},
   "outputs": [
    {
     "data": {
      "text/plain": [
       "<MapDataset shapes: {data: (3,), location: (3,), name: ()}, types: {data: tf.float32, location: tf.int64, name: tf.string}>"
      ]
     },
     "execution_count": null,
     "metadata": {},
     "output_type": "execute_result"
    }
   ],
   "source": [
    "def decode(raw_person):\n",
    "    return tf.io.parse_single_example(\n",
    "        raw_person, \n",
    "        {\n",
    "            \"name\": tf.io.FixedLenFeature([], dtype=tf.string),\n",
    "            \"location\": tf.io.FixedLenFeature((3,), dtype=tf.int64),\n",
    "            \"data\": tf.io.FixedLenFeature((3,), dtype=tf.float32),\n",
    "        })\n",
    "\n",
    "ds = raw_ds.map(decode)\n",
    "ds\n"
   ]
  },
  {
   "cell_type": "code",
   "execution_count": null,
   "metadata": {},
   "outputs": [
    {
     "name": "stdout",
     "output_type": "stream",
     "text": [
      "name = b'peter griffin', location = [0 1 0], data = [1. 2. 3.]\n",
      "name = b'stewie griffin', location = [1 0 0], data = [1. 2. 3.]\n"
     ]
    },
    {
     "name": "stderr",
     "output_type": "stream",
     "text": [
      "2022-03-21 21:20:09.929879: W tensorflow/core/platform/profile_utils/cpu_utils.cc:128] Failed to get CPU frequency: 0 Hz\n"
     ]
    }
   ],
   "source": [
    "for person in ds:\n",
    "    location = person[\"location\"]\n",
    "    data = person[\"data\"]\n",
    "    name = person[\"name\"]\n",
    "\n",
    "    print(f\"name = {name}, location = {location}, data = {data}\")\n"
   ]
  },
  {
   "cell_type": "code",
   "execution_count": null,
   "metadata": {},
   "outputs": [],
   "source": []
  }
 ],
 "metadata": {
  "kernelspec": {
   "display_name": "Python 3.10.2 64-bit ('neural': conda)",
   "language": "python",
   "name": "python3"
  }
 },
 "nbformat": 4,
 "nbformat_minor": 2
}
