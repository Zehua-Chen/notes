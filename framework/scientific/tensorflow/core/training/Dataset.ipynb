{
 "cells": [
  {
   "cell_type": "markdown",
   "metadata": {},
   "source": [
    "# Training Using Dataset"
   ]
  },
  {
   "cell_type": "markdown",
   "metadata": {},
   "source": [
    "## Batching\n",
    "\n",
    "`tf.data.Dataset` should be batched before being sent to training\n",
    "\n",
    "- Keras will automatically batch other data formats\n",
    "- Neural networks are typically designed with batching in mind. For example, if\n",
    "  a feature is of shape `(3,)`, then neural networks expects to take batches of \n",
    "  shape `(None, 3)`"
   ]
  },
  {
   "cell_type": "markdown",
   "metadata": {},
   "source": []
  }
 ],
 "metadata": {
  "kernelspec": {
   "display_name": "Python 3.9.10 ('coms4995')",
   "language": "python",
   "name": "python3"
  }
 },
 "nbformat": 4,
 "nbformat_minor": 2
}
