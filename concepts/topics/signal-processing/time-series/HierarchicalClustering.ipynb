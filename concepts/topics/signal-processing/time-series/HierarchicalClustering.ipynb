{
 "cells": [
  {
   "cell_type": "markdown",
   "metadata": {},
   "source": [
    "# Overview"
   ]
  },
  {
   "cell_type": "code",
   "execution_count": null,
   "metadata": {},
   "outputs": [],
   "source": [
    "from typing import List\n",
    "from dataclasses import dataclass\n",
    "\n",
    "import numpy as np\n",
    "\n",
    "from distance import euclidean"
   ]
  },
  {
   "cell_type": "code",
   "execution_count": null,
   "metadata": {},
   "outputs": [
    {
     "data": {
      "text/plain": [
       "(5, 4)"
      ]
     },
     "execution_count": null,
     "metadata": {},
     "output_type": "execute_result"
    }
   ],
   "source": [
    "t1 = np.array([1, 1, 1, 2], dtype=np.float32)\n",
    "t2 = np.array([1, 2, 1, 2], dtype=np.float32)\n",
    "t3 = np.array([1, 4, 1, 2], dtype=np.float32)\n",
    "t4 = np.array([1, 2, 1, 8], dtype=np.float32)\n",
    "t5 = np.array([1, 4, 1, 6], dtype=np.float32)\n",
    "\n",
    "t_input = np.array([t1, t2, t3, t4, t5])\n",
    "t_input.shape"
   ]
  },
  {
   "cell_type": "markdown",
   "metadata": {},
   "source": [
    "- **Input**: a list of time series data"
   ]
  },
  {
   "cell_type": "markdown",
   "metadata": {},
   "source": [
    "# Step 1 - Computing Pairwise Distance"
   ]
  },
  {
   "cell_type": "markdown",
   "metadata": {},
   "source": [
    "Compute pair-wise distance of all the time series data"
   ]
  },
  {
   "cell_type": "code",
   "execution_count": null,
   "metadata": {},
   "outputs": [
    {
     "data": {
      "text/plain": [
       "array([[0.       , 1.       , 3.       , 6.0827627, 5.       ],\n",
       "       [1.       , 0.       , 2.       , 6.       , 4.472136 ],\n",
       "       [3.       , 2.       , 0.       , 6.3245554, 4.       ],\n",
       "       [6.0827627, 6.       , 6.3245554, 0.       , 2.828427 ],\n",
       "       [5.       , 4.472136 , 4.       , 2.828427 , 0.       ]],\n",
       "      dtype=float32)"
      ]
     },
     "execution_count": null,
     "metadata": {},
     "output_type": "execute_result"
    }
   ],
   "source": [
    "def get_distances(ts: np.ndarray) -> np.ndarray:\n",
    "    t_count, _ = ts.shape\n",
    "    output = np.zeros((t_count, t_count), dtype=np.float32)\n",
    "    \n",
    "    for y in range(t_count):\n",
    "        for x in range(t_count):\n",
    "            output[y][x] = euclidean(ts[y], ts[x]) \n",
    "\n",
    "    return output\n",
    "\n",
    "\n",
    "get_distances(t_input)"
   ]
  },
  {
   "cell_type": "markdown",
   "metadata": {},
   "source": [
    "# Step 2 - Clustering\n",
    "\n",
    "1. Every time series data starts in a cluster by itself\n",
    "2. Merge clusters with the smallest distance\n",
    "3. Re-evaluate distances\n",
    "4. Repeat process"
   ]
  },
  {
   "cell_type": "markdown",
   "metadata": {},
   "source": [
    "## Linkage\n",
    "\n",
    "In each step, we merge a pair of clusters with the smallest distance. Linkage determines how this distance is calculated\n",
    "\n",
    "- **Complete linkage (farthest neighbor)**: the **distance between two clusters** is the **maximum pairwise distance** between elements in the two clusters\n",
    "  - $\\max\\left\\{ d\\left( a, b \\right): a \\in A, b \\in B \\right\\}$\n",
    "- **Single linkage (nearest neighbor)**: the **distance between two clusters** is the **minimum pairwise distance** between elements in the two clusters\n",
    "  - $\\min\\left\\{ d\\left( a, b \\right): a \\in A, b \\in B \\right\\}$"
   ]
  },
  {
   "cell_type": "code",
   "execution_count": null,
   "metadata": {},
   "outputs": [
    {
     "ename": "SyntaxError",
     "evalue": "expected ':' (1299740732.py, line 8)",
     "output_type": "error",
     "traceback": [
      "\u001b[0;36m  Input \u001b[0;32mIn [7]\u001b[0;36m\u001b[0m\n\u001b[0;31m    def create(cluster1: np.ndarray, )\u001b[0m\n\u001b[0m                                      ^\u001b[0m\n\u001b[0;31mSyntaxError\u001b[0m\u001b[0;31m:\u001b[0m expected ':'\n"
     ]
    }
   ],
   "source": [
    "@dataclass(frozen=True)\n",
    "class Cluster:\n",
    "    data: np.ndarray\n",
    "    left: \"Cluster\"\n",
    "    right: \"Cluster\"\n",
    "\n",
    "@dataclass(frozen=True)\n",
    "class Candidate:\n",
    "    cluster1: List[np.ndarray] \n",
    "    cluster2: List[np.ndarray]\n",
    "    distance: float\n",
    "\n",
    "    def merge(self) -> List[np.ndarray]:\n",
    "        return self.cluster1 + self.cluster2\n"
   ]
  },
  {
   "cell_type": "code",
   "execution_count": null,
   "metadata": {},
   "outputs": [],
   "source": [
    "def cluster(ts: np.ndarray, clusters_count: int) -> list:\n",
    "    distances = get_distances(ts)\n",
    "    clusters = [t for t in ts]  # type: List[np.ndarray]\n",
    "\n",
    "    def create_candidate(cluster1: int, cluster2: int) -> Candidate:\n",
    "        return Candidate(clusters[cluster1], cluster2[cluster2], 0.0) \n",
    "\n",
    "    while len(clusters) != clusters_count:\n",
    "        candidates = [create_candidate(cluster1, cluster2)\n",
    "                      for cluster1 in range(len(clusters))\n",
    "                      for cluster2 in range(len(clusters)) if cluster1 != cluster2]\n",
    "\n",
    "        candidate = min(candidates, key=lambda c: c.distance)\n",
    "        \n",
    "        for c in candidate.cluster1:\n",
    "            clusters.remove(c)\n",
    "\n",
    "        for c in candidate.cluster2:\n",
    "            clusters.remove(c)\n",
    "\n",
    "        clusters = clusters + candidate.merge()\n",
    "\n",
    "    return clusters "
   ]
  },
  {
   "cell_type": "code",
   "execution_count": null,
   "metadata": {},
   "outputs": [],
   "source": []
  }
 ],
 "metadata": {
  "kernelspec": {
   "display_name": "Python 3.10.4 ('research')",
   "language": "python",
   "name": "python3"
  }
 },
 "nbformat": 4,
 "nbformat_minor": 2
}
