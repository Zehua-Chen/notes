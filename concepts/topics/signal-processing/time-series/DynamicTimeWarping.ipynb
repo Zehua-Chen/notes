{
 "cells": [
  {
   "cell_type": "markdown",
   "metadata": {},
   "source": [
    "# Overview"
   ]
  },
  {
   "cell_type": "markdown",
   "metadata": {},
   "source": [
    "Copy an element multiple times so as to achieve a better matching\n",
    "\n",
    "- An element of a time series T1 may be \"matched\" with multiple elements of another time series T2 when computing the distance between T1 and T2.\n",
    "- First used in speech recognition for recognizing words spoken at different\n",
    "  speeds\n",
    "- Same idea can work equally well for generic time-series data"
   ]
  },
  {
   "cell_type": "markdown",
   "metadata": {},
   "source": [
    "# Calculation\n",
    "\n",
    "$$\n",
    "DTW\\left( Q, C \\right) =\n",
    "  \\min \n",
    "  \\begin{cases}\n",
    "    \\sqrt{\\sum_{k = 1}^{K} w_{k}} / K\n",
    "  \\end{cases}\n",
    "$$"
   ]
  },
  {
   "cell_type": "markdown",
   "metadata": {},
   "source": [
    "# Properties of Warpign Path\n",
    "\n",
    "- **Boundary constraint**: $w$ must start and finish in the first and last points of sequences\n",
    "- **Continuity**: at any given point in $w$, we can only travel to neighboring points\n",
    "- **Monotonicity**: points in $w$ must be monotonically ordered"
   ]
  },
  {
   "cell_type": "markdown",
   "metadata": {},
   "source": []
  }
 ],
 "metadata": {
  "kernelspec": {
   "display_name": ".NET (C#)",
   "language": "python",
   "name": "python3"
  }
 },
 "nbformat": 4,
 "nbformat_minor": 2
}
