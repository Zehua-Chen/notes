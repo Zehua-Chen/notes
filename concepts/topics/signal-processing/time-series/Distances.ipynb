{
 "cells": [
  {
   "cell_type": "markdown",
   "metadata": {},
   "source": [
    "# Overview\n",
    "\n",
    "**Distance function** is a function that defines a distance between pairs of elements (ex time series sequences)"
   ]
  },
  {
   "cell_type": "code",
   "execution_count": null,
   "metadata": {},
   "outputs": [],
   "source": [
    "import numpy as np"
   ]
  },
  {
   "cell_type": "markdown",
   "metadata": {},
   "source": [
    "# Euclidean Distance Metric\n",
    "\n",
    "$$\n",
    "D\\left(Q, C\\right) = \\sqrt{\\sum_{i = 1}^{n}\\left( q_{i} - c_{i} \\right)^{2}}\n",
    "$$\n",
    "\n",
    "\n",
    "- Assume two time series $Q, C$ have the same number of elements"
   ]
  },
  {
   "cell_type": "code",
   "execution_count": null,
   "metadata": {},
   "outputs": [],
   "source": [
    "def euclidean(a: np.ndarray, b: np.ndarray) -> float:\n",
    "    diff = np.subtract(a, b)\n",
    "    diff2 = np.power(diff, 2.0)\n",
    "    s = np.sum(diff2)\n",
    "    sqrt = np.sqrt(s)\n",
    "\n",
    "    return sqrt"
   ]
  }
 ],
 "metadata": {},
 "nbformat": 4,
 "nbformat_minor": 2
}
