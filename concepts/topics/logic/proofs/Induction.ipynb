{
 "cells": [
  {
   "cell_type": "markdown",
   "metadata": {},
   "source": [
    "# Steps\n",
    "\n",
    "## Basis\n",
    "\n",
    "Check that the statement holds for $ n = 1 $\n",
    "\n",
    "## Induction Step\n",
    "\n",
    "Prove that for any $ k \\ge 2 $, if the statement holds for $ 1, 2, ... k - 1 $,\n",
    "then it also holds for $ k $\n",
    "\n",
    "- Aka. **inductive hypothesis**\n",
    "\n",
    "## Conclusion\n",
    "\n",
    "Conclude that by induction, the statement holds for $ 1, 2, ..., n $\n"
   ]
  },
  {
   "cell_type": "markdown",
   "metadata": {},
   "source": []
  }
 ],
 "metadata": {},
 "nbformat": 4,
 "nbformat_minor": 2
}
