{
 "cells": [
  {
   "cell_type": "markdown",
   "metadata": {},
   "source": [
    "# Overview\n",
    "\n",
    "1. Guess the solution\n",
    "2. Use induction to prove that the guess is valid"
   ]
  },
  {
   "cell_type": "markdown",
   "metadata": {},
   "source": [
    "# Example\n",
    "\n",
    "Prove the following by substitution\n",
    "\n",
    "$$\n",
    "T\\left( n \\right) = 2 T\\left( \\frac{n}{2} \\right) + n\n",
    "$$\n",
    "\n",
    "is $ O\\left( n \\log\\left( n \\right) \\right) $"
   ]
  },
  {
   "cell_type": "markdown",
   "metadata": {},
   "source": [
    "We assume taht the bonds holds for $ \\frac{n}{2} $\n",
    "\n",
    "$$\n",
    "\\begin{align*}\n",
    "  T\\left( n \\right) \n",
    "    &\\le c\\left( \\frac{n}{2} \\right) \\log\\left( \\frac{n}{2} \\right) \\\\\n",
    "    &= cn \\log\\left( \\frac{n}{2} \\right)  - cn \\log\\left( 2 \\right) + n \\\\ \n",
    "    &\\le c n \\log\\left( n \\right)\n",
    "\\end{align*}\n",
    "$$\n",
    "\n",
    "The last step holds true for any $ c > 1 $, we are done"
   ]
  },
  {
   "cell_type": "markdown",
   "metadata": {},
   "source": []
  }
 ],
 "metadata": {},
 "nbformat": 4,
 "nbformat_minor": 2
}
