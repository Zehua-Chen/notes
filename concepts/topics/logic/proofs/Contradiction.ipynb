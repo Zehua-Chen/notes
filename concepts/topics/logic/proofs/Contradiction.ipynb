{
 "cells": [
  {
   "cell_type": "markdown",
   "id": "2863c81b",
   "metadata": {},
   "source": [
    "# Overview"
   ]
  },
  {
   "cell_type": "markdown",
   "id": "5cf36043",
   "metadata": {},
   "source": [
    "To prove that $P$ is true, assume $P$ is false and show that there is a contradiction\n",
    "\n",
    "- Often $P$ has the form $A \\to B$. The contradiction of $P$ is $A \\to \\neg B$"
   ]
  },
  {
   "cell_type": "code",
   "execution_count": null,
   "id": "399c4219",
   "metadata": {},
   "outputs": [],
   "source": []
  }
 ],
 "metadata": {
  "kernelspec": {
   "display_name": ".NET (F#)",
   "language": "F#",
   "name": ".net-fsharp"
  }
 },
 "nbformat": 4,
 "nbformat_minor": 5
}
