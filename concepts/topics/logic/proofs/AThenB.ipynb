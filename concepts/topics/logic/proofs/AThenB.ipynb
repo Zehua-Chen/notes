{
 "cells": [
  {
   "cell_type": "markdown",
   "metadata": {},
   "source": [
    "# Proving \"if A then B\"\n",
    "\n",
    "## Direct Proof\n",
    "\n",
    "Assume that A is true, deduce that B is also true\n",
    "\n",
    "## Contrapositive Proof\n",
    "\n",
    "If \"A is true, then B is true\" is true, then \"A is true, but B is false\" is not\n",
    "possible. Thus we can prove \"A is true, then B is true\" by proving \"if A is\n",
    "false, then B is false\" too\n",
    "\n",
    "## Proof By Contradiction\n",
    "\n",
    "Given claim $ k $\n",
    "\n",
    "1. Show that $ \\neg k $ lead to contradiction (a condition that cannot occur)\n",
    "2. If $ \\neg k $ lead to contradiction, $ \\neg k $ must be false\n",
    "3. Therefore $ k = \\neg \\left( \\neg k \\right) $ must be true\n"
   ]
  },
  {
   "cell_type": "markdown",
   "metadata": {},
   "source": []
  }
 ],
 "metadata": {},
 "nbformat": 4,
 "nbformat_minor": 2
}
