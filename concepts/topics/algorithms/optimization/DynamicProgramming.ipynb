{
 "cells": [
  {
   "cell_type": "markdown",
   "id": "50015411",
   "metadata": {},
   "source": [
    "# Dynamic Programming"
   ]
  },
  {
   "cell_type": "markdown",
   "id": "f0c05807",
   "metadata": {},
   "source": [
    "Problems where dynamic programming work usually share the following properties \n",
    "\n",
    "1. **Optimal substructure**: after finding the first choice, finding an optimal solution reduces to solving multiple subproblems\n",
    "2. **Overlapping subproblems**: the total number of subproblems is small"
   ]
  },
  {
   "cell_type": "markdown",
   "id": "b7f0d2ba",
   "metadata": {},
   "source": [
    "## Developing Dynamic Programming Algorithm"
   ]
  },
  {
   "cell_type": "markdown",
   "id": "541a9eb9",
   "metadata": {},
   "source": [
    "### Step 1 - Understand the Optimization Problem\n",
    "\n",
    "Use its optimal substructure to derive a recursive formula for the optimal value in terms of optimal values of smaller subproblems"
   ]
  },
  {
   "cell_type": "markdown",
   "id": "02446ffa",
   "metadata": {},
   "source": [
    "### Step 2 - Take Advantage of the Overlapping Subproblems Property\n",
    "\n",
    "Use the recursive formula to compute the optimal values of all subproblems, usually in a bottom-up fashion."
   ]
  },
  {
   "cell_type": "markdown",
   "id": "8e703fe8",
   "metadata": {},
   "source": [
    "### Step 3 - Maintain Additional Information\n",
    "\n",
    "Maintain addition information (the optimal choice made in each subproblem) to construct an optimal solution efficiently"
   ]
  },
  {
   "cell_type": "code",
   "execution_count": null,
   "id": "7fcf1201",
   "metadata": {},
   "outputs": [],
   "source": []
  }
 ],
 "metadata": {
  "kernelspec": {
   "display_name": ".NET (F#)",
   "language": "F#",
   "name": ".net-fsharp"
  }
 },
 "nbformat": 4,
 "nbformat_minor": 5
}
