{
 "cells": [
  {
   "cell_type": "markdown",
   "metadata": {},
   "source": [
    "# Master Theorem\n",
    "\n",
    "Given \n",
    "\n",
    "$$\n",
    "\\begin{align*}\n",
    "  T(1) &= \\Theta(1) \\\\ \n",
    "  T(n) &= a \\cdot T(n / b) + f(n) \\text{ for $ n \\ge 2 $} \\\\\n",
    "  t &= \\log_{b} a \\\\ \n",
    "  b^{t} &= a \n",
    "\\end{align*}\n",
    "$$"
   ]
  },
  {
   "cell_type": "markdown",
   "metadata": {},
   "source": [
    "## Case 1\n",
    "\n",
    "If $ f(n) = O\\left( n^{t - \\epsilon} \\right) $, for some constant \n",
    "$ \\epsilon > 1 $, $ T(n) = \\Theta\\left( n^{t} \\right) $\n",
    "\n",
    "**In another word**, if $ f(n) $ is smaller than $ n^{t} $, then \n",
    "$ T(n) = \\Theta\\left( n^{t} \\right) $"
   ]
  },
  {
   "cell_type": "markdown",
   "metadata": {},
   "source": [
    "\n",
    "## Case 2\n",
    "\n",
    "If $ f(n) = \\Theta\\left( n^{t} \\right) $, \n",
    "$ T(n) = \\Theta\\left( n^{t} \\log n \\right) $\n",
    "\n",
    "In another word, if $ f(n) $ is of the same order as $ n^{t} $, then \n",
    "$ T(n) = \\Theta\\left( n^{t} \\log n \\right) $"
   ]
  },
  {
   "cell_type": "markdown",
   "metadata": {},
   "source": [
    "## Case 3"
   ]
  },
  {
   "cell_type": "markdown",
   "metadata": {},
   "source": [
    "If $ f(n) = \\Omega\\left( n^{t + \\epsilon} \\right) $ for some constant\n",
    "$ \\epsilon > 1 $, and if $ af\\left( n / b \\right) < cf(n) $ for some constant\n",
    "$ c < 1 $ and sufficiently large $ n $, then $ T(n) = \\Theta\\left( f \\left( n \\right) \\right) $\n",
    "\n",
    "**In another word**, if $ f(n) $ is larger than $ n^{t} $ and satisfies a regularity\n",
    "condition, then $ T(n) = \\Theta\\left( f\\left( n \\right) \\right) $"
   ]
  },
  {
   "cell_type": "markdown",
   "metadata": {},
   "source": []
  }
 ],
 "metadata": {
  "kernelspec": {
   "display_name": "Python 3.10.4 ('research')",
   "language": "python",
   "name": "python3"
  },
  "language_info": {
   "name": "python",
   "version": "3.10.4"
  },
  "vscode": {
   "interpreter": {
    "hash": "906218519217ffe9f1510e367b653c91b03982f1d5d8f447508680143cf14f4f"
   }
  }
 },
 "nbformat": 4,
 "nbformat_minor": 2
}
