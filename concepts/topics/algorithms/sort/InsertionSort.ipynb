{
 "cells": [
  {
   "cell_type": "markdown",
   "metadata": {},
   "source": [
    "# Insertion Sort\n",
    "\n",
    "- Time complexity: $O(n^{2})$\n",
    "- Space complexity: $O(1)$"
   ]
  },
  {
   "cell_type": "code",
   "execution_count": null,
   "metadata": {},
   "outputs": [],
   "source": [
    "class Sort \n",
    "{\n",
    "  public static void ByInsertion<T>(Span<T> span) where T: IComparable<T>\n",
    "  {\n",
    "    for (int unsorted = 1; unsorted < span.Length; unsorted++)\n",
    "    {\n",
    "      T unsortedElement = span[unsorted];\n",
    "      int sorted = unsorted - 1;\n",
    "\n",
    "      while (sorted >= 0 && unsortedElement.CompareTo(span[sorted]) < 0)\n",
    "      {\n",
    "        // move element at sorted to the right\n",
    "        span[sorted + 1] = span[sorted];\n",
    "        sorted--;\n",
    "      }\n",
    "\n",
    "      // place unsorted element at the correct spot\n",
    "      span[sorted + 1] = unsortedElement;\n",
    "    }\n",
    "  }\n",
    "}"
   ]
  },
  {
   "cell_type": "code",
   "execution_count": null,
   "metadata": {},
   "outputs": [
    {
     "name": "stdout",
     "output_type": "stream",
     "text": [
      "1,2,3\n",
      "1,2,3\n"
     ]
    }
   ],
   "source": [
    "var nums1 = new int[]{1, 2, 3};\n",
    "var nums2 = new int[]{3, 2, 1};\n",
    "\n",
    "Sort.ByInsertion(nums1.AsSpan());\n",
    "Sort.ByInsertion(nums2.AsSpan());\n",
    "\n",
    "Console.WriteLine(string.Join(',', nums1));\n",
    "Console.WriteLine(string.Join(',', nums2));"
   ]
  },
  {
   "cell_type": "code",
   "execution_count": null,
   "metadata": {},
   "outputs": [],
   "source": []
  }
 ],
 "metadata": {
  "kernelspec": {
   "display_name": ".NET (C#)",
   "language": "C#",
   "name": ".net-csharp"
  }
 },
 "nbformat": 4,
 "nbformat_minor": 2
}
