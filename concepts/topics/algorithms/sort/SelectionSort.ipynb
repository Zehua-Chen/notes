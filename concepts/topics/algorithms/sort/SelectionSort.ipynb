{
 "cells": [
  {
   "cell_type": "markdown",
   "metadata": {},
   "source": [
    "# Selection Sort\n",
    "\n",
    "- Time complexity: $O(n^{2})$\n",
    "- Space complexity: $O(1)$"
   ]
  },
  {
   "cell_type": "code",
   "execution_count": null,
   "metadata": {},
   "outputs": [],
   "source": [
    "class Sort \n",
    "{\n",
    "  private static void Swap<T>(Span<T> span, int a, int b)\n",
    "  {\n",
    "    T temp = span[a];\n",
    "    span[a] = span[b];\n",
    "    span[b] = temp;\n",
    "  }\n",
    "\n",
    "  public static void BySelection<T>(Span<T> span) where T: IComparable<T>\n",
    "  {\n",
    "    for (int i = 0; i < span.Length; i++) \n",
    "    {\n",
    "      int min = i;\n",
    "      \n",
    "      for (int j = i; j < span.Length; j++) \n",
    "      {\n",
    "        if (span[min].CompareTo(span[j]) > 0) \n",
    "        {\n",
    "          min = j;\n",
    "        }\n",
    "      }\n",
    "\n",
    "      Swap(span, i, min);\n",
    "    }\n",
    "  }\n",
    "}"
   ]
  },
  {
   "cell_type": "code",
   "execution_count": null,
   "metadata": {},
   "outputs": [
    {
     "name": "stdout",
     "output_type": "stream",
     "text": [
      "0,1,2,4\n",
      "0,0,2,2\n"
     ]
    }
   ],
   "source": [
    "var test1 = new int[] { 0, 2, 1, 4 };\n",
    "var test2 = new int[] { 0, 2, 0, 2 };\n",
    "\n",
    "Sort.BySelection(test1.AsSpan());\n",
    "Sort.BySelection(test2.AsSpan());\n",
    "\n",
    "Console.WriteLine(string.Join(',', test1));\n",
    "Console.WriteLine(string.Join(',', test2));"
   ]
  },
  {
   "cell_type": "code",
   "execution_count": null,
   "metadata": {},
   "outputs": [],
   "source": []
  }
 ],
 "metadata": {
  "kernelspec": {
   "display_name": ".NET (C#)",
   "language": "C#",
   "name": ".net-csharp"
  }
 },
 "nbformat": 4,
 "nbformat_minor": 2
}
