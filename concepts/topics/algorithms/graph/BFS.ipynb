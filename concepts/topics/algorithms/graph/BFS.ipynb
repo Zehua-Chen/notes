{
 "cells": [
  {
   "cell_type": "markdown",
   "id": "bb55418a",
   "metadata": {},
   "source": [
    "# Overview"
   ]
  },
  {
   "cell_type": "markdown",
   "id": "1a249422",
   "metadata": {},
   "source": [
    "- BFS always computes the shortest path from start to each node (**for both directed and undirected graph**)"
   ]
  },
  {
   "cell_type": "code",
   "execution_count": null,
   "id": "32558f08",
   "metadata": {},
   "outputs": [],
   "source": [
    "using System.Collections.Generic;"
   ]
  },
  {
   "cell_type": "code",
   "execution_count": null,
   "id": "12cc8f1f",
   "metadata": {},
   "outputs": [],
   "source": [
    "class BFS \n",
    "{\n",
    "    public static int Search(string start, string stop, Func<string, IEnumerable<string>> adjacent) \n",
    "    {\n",
    "        var queue = new Queue<string>();\n",
    "        var visited = new HashSet<string>();\n",
    "        var distances = new Dictionary<string, int>();\n",
    "\n",
    "        queue.Enqueue(start);\n",
    "        distances.Add(start, 0);\n",
    "\n",
    "        while (queue.Count > 0)\n",
    "        {\n",
    "            string node = queue.Dequeue();\n",
    "            int distance = distances.GetValueOrDefault(node, 0);\n",
    "\n",
    "            if (node == stop)\n",
    "            {\n",
    "                return distance;\n",
    "            }\n",
    "\n",
    "            visited.Add(node);\n",
    "\n",
    "            foreach (string adj in adjacent(node))\n",
    "            {\n",
    "                if (visited.Contains(adj)) \n",
    "                {\n",
    "                    continue;\n",
    "                }\n",
    "\n",
    "                queue.Enqueue(adj);\n",
    "                distances.Add(adj, distance + 1);\n",
    "            }\n",
    "        }\n",
    "\n",
    "        return -1;\n",
    "    }\n",
    "}"
   ]
  },
  {
   "cell_type": "code",
   "execution_count": null,
   "id": "bfa0b108",
   "metadata": {},
   "outputs": [
    {
     "name": "stdout",
     "output_type": "stream",
     "text": [
      "Distance = 2\n"
     ]
    }
   ],
   "source": [
    "void Test1() \n",
    "{\n",
    "    int distance = BFS.Search(\"start\", \"end\", (node) => \n",
    "    {\n",
    "        switch (node) \n",
    "        {\n",
    "            case \"start\":\n",
    "                return new string[] { \"second\" };\n",
    "            case \"second\":\n",
    "                return new string[] { \"end\" };\n",
    "            case \"end\":\n",
    "                return new string[] { \"start\" };\n",
    "            default:\n",
    "                return new string[] {};\n",
    "        }\n",
    "    });\n",
    "\n",
    "    Console.WriteLine($\"Distance = {distance}\");\n",
    "}\n",
    "\n",
    "Test1();"
   ]
  },
  {
   "cell_type": "code",
   "execution_count": null,
   "id": "9dcb9788",
   "metadata": {},
   "outputs": [],
   "source": []
  }
 ],
 "metadata": {
  "kernelspec": {
   "display_name": ".NET (C#)",
   "language": "C#",
   "name": ".net-csharp"
  }
 },
 "nbformat": 4,
 "nbformat_minor": 5
}
