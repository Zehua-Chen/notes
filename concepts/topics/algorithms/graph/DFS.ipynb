{
 "cells": [
  {
   "cell_type": "markdown",
   "id": "4f24e321",
   "metadata": {},
   "source": [
    "# $DFSVisit(G, u)$"
   ]
  },
  {
   "cell_type": "markdown",
   "id": "3b0638f4",
   "metadata": {},
   "source": [
    "```\n",
    "set time = time + 1 \n",
    "set u.d = time \n",
    "\n",
    "change u.color from white to gray (just discovered)\n",
    "\n",
    "for each v in adj(u) \n",
    "  if v.color == white (not discovered)\n",
    "    set v.pi = u (u discovers pi)\n",
    "    DFSVisit(G, v)\n",
    "\n",
    "change u.color from gray to black\n",
    "set time = time + 1 and u.f = time \n",
    "```"
   ]
  },
  {
   "cell_type": "markdown",
   "id": "4da5f973",
   "metadata": {},
   "source": [
    "## Running Time"
   ]
  },
  {
   "cell_type": "markdown",
   "id": "f5d0ea5d",
   "metadata": {},
   "source": [
    "$$\n",
    "\\Theta(1) + \\Theta\\left( \\left| adj(u) \\right| \\right) \n",
    "$$"
   ]
  },
  {
   "cell_type": "markdown",
   "id": "125d49e1",
   "metadata": {},
   "source": [
    "# $DFS\\left( G \\right)$"
   ]
  },
  {
   "cell_type": "markdown",
   "id": "3cab32c7",
   "metadata": {},
   "source": [
    "```\n",
    "for each vertex v in V\n",
    "  set v.color = white and v.pi = nil\n",
    "\n",
    "set time = 0\n",
    "\n",
    "for each vertex u in V \n",
    "  if u.color == white\n",
    "    DFSVisit(G, u)\n",
    "```"
   ]
  },
  {
   "cell_type": "markdown",
   "id": "b7b2940c",
   "metadata": {},
   "source": [
    "## Running Time"
   ]
  },
  {
   "cell_type": "markdown",
   "id": "2f7be9e1",
   "metadata": {},
   "source": [
    "$$\n",
    "\\Theta\\left( n \\right) \n",
    "  + \\sum_{u} \n",
    "    \\left( \n",
    "      \\Theta(1) + \\Theta\\left( \\left| adj(u) \\right| \\right) \n",
    "    \\right)\n",
    "= \\Theta\\left( n + m \\right)\n",
    "$$"
   ]
  },
  {
   "cell_type": "markdown",
   "id": "0e344de7",
   "metadata": {},
   "source": [
    "# Properties"
   ]
  },
  {
   "cell_type": "markdown",
   "id": "5e6f5934",
   "metadata": {},
   "source": [
    "- At the time $u.d$ when a vertex $u \\in V$ is discovered, the set of gray vertices is exactly the set of ancestors of $u$ in the forest\n",
    "- By the time $u.f$ when we finish with $u \\in V$ (and thus, change its color $u.color$ from gray to black), all vertices $v \\in adj\\left( u \\right)$ are either gray or black (they have been discovered)"
   ]
  },
  {
   "cell_type": "markdown",
   "id": "b08891ac",
   "metadata": {},
   "source": [
    "# Lemmas"
   ]
  },
  {
   "cell_type": "markdown",
   "id": "3181d2a2",
   "metadata": {},
   "source": [
    "## Parenthesis Lemma"
   ]
  },
  {
   "cell_type": "markdown",
   "id": "6a463bcd",
   "metadata": {},
   "source": [
    "# Theorems"
   ]
  },
  {
   "cell_type": "markdown",
   "id": "e61f2314",
   "metadata": {},
   "source": [
    "## White Path Theorem"
   ]
  },
  {
   "cell_type": "markdown",
   "id": "6c9ea033",
   "metadata": {},
   "source": [
    "Given $u, v \\in V$ , $u$ is an ancestor of $v$ in the depth-first forest if and only if at the time $u.d$ (right before changing $u$ from white to gray), there is a path from $u$ to $v$ consisting of white vertices."
   ]
  },
  {
   "cell_type": "markdown",
   "id": "42993181",
   "metadata": {},
   "source": [
    "# Applications"
   ]
  },
  {
   "cell_type": "markdown",
   "id": "fe6ee37e",
   "metadata": {},
   "source": [
    "## Topological Sort"
   ]
  },
  {
   "cell_type": "markdown",
   "id": "7d414607",
   "metadata": {},
   "source": [
    "## Strongly Connected Components"
   ]
  },
  {
   "cell_type": "markdown",
   "id": "745018ae",
   "metadata": {},
   "source": []
  }
 ],
 "metadata": {
  "kernelspec": {
   "display_name": ".NET (F#)",
   "language": "F#",
   "name": ".net-fsharp"
  }
 },
 "nbformat": 4,
 "nbformat_minor": 5
}
