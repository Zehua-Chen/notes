{
 "cells": [
  {
   "cell_type": "markdown",
   "id": "687553c4",
   "metadata": {},
   "source": [
    "# Overview"
   ]
  },
  {
   "cell_type": "markdown",
   "id": "c50f0f3f",
   "metadata": {},
   "source": [
    "- $\\left(u, v\\right) = \\left(v, u\\right)$"
   ]
  },
  {
   "cell_type": "markdown",
   "id": "4e1d8ba7",
   "metadata": {},
   "source": [
    "# Degree\n",
    "\n",
    "Degree of vertex $u$ is the number of edges incident on $u$"
   ]
  },
  {
   "cell_type": "code",
   "execution_count": null,
   "id": "96a9b758",
   "metadata": {},
   "outputs": [],
   "source": []
  }
 ],
 "metadata": {
  "kernelspec": {
   "display_name": ".NET (F#)",
   "language": "F#",
   "name": ".net-fsharp"
  }
 },
 "nbformat": 4,
 "nbformat_minor": 5
}
