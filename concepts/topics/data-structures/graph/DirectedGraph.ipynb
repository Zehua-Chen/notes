{
 "cells": [
  {
   "cell_type": "markdown",
   "id": "549d0a8b",
   "metadata": {},
   "source": [
    "# Time\n",
    "\n",
    "- $u.d$: when vertex $u$ is discovered\n",
    "- $u.f$: when vertex $u$ is finished"
   ]
  },
  {
   "cell_type": "markdown",
   "id": "249f964c",
   "metadata": {},
   "source": [
    "# Edges"
   ]
  },
  {
   "cell_type": "markdown",
   "id": "f65ca94d",
   "metadata": {},
   "source": [
    "Given a directed graph $G = \\left(V, E\\right)$ and its depth first forest, we say $\\left( u, v \\right) \\in E$ is \n",
    "\n",
    "- **Tree edge**: if $\\left(u, v \\right)$ is an edge in the forest (and $v.\\pi = u$)\n",
    "- **Back edge**: if $v$ is an ancestor of $u$ in the forest\n",
    "- **Forward edge**: if $v$ is a descendant of $u$ in the forest\n",
    "- **Cross edge**: if $u$ and $v$ are unrelated\n",
    "\n",
    "The type of the edge $\\left(u, v\\right)$ depends on the color of $v$ when DFS explores $v$ in $DFSVisit\\left(G, u\\right)$ (as it goes through $adj\\left( u \\right)$)\n",
    "\n",
    "- If **$v$ is white**, then DFS will explore $v$ and set $v.\\pi = u$. So $\\left(u, v\\right)$ is a **tree edge** and by the parenthesis lemma: $u.f > v.f$\n",
    "- If **$v$ is gray**, then $v$ is an ancestor of $u$ and thus $\\left(u, v\\right)$ is a **back edge**. By the parenthesis lemma, we have $v.f > u.f$\n",
    "- If **$v$ is black**, then $\\left(u, v\\right)$ is **either a forward edge or a cross edge**. In both cases, $u.f > v.f$"
   ]
  },
  {
   "cell_type": "markdown",
   "id": "ae68d3a9",
   "metadata": {},
   "source": []
  }
 ],
 "metadata": {
  "kernelspec": {
   "display_name": ".NET (F#)",
   "language": "F#",
   "name": ".net-fsharp"
  }
 },
 "nbformat": 4,
 "nbformat_minor": 5
}
