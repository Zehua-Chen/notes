{
 "cells": [
  {
   "cell_type": "markdown",
   "id": "08cea1bb",
   "metadata": {},
   "source": [
    "# Overview"
   ]
  },
  {
   "cell_type": "markdown",
   "id": "13a2c312",
   "metadata": {},
   "source": [
    "# Adjacency Matrix"
   ]
  },
  {
   "cell_type": "markdown",
   "id": "59117808",
   "metadata": {},
   "source": [
    "$$\n",
    "A_{i,j} = \n",
    "\\begin{cases}\n",
    "  1 & \\left(i, j\\right) \\in E \\\\\n",
    "  0 & \\text{otherwise}\n",
    "\\end{cases}\n",
    "$$\n",
    "\n",
    "- $A$ is symmetric"
   ]
  },
  {
   "cell_type": "code",
   "execution_count": null,
   "id": "fea9df79",
   "metadata": {},
   "outputs": [],
   "source": []
  }
 ],
 "metadata": {
  "kernelspec": {
   "display_name": ".NET (F#)",
   "language": "F#",
   "name": ".net-fsharp"
  }
 },
 "nbformat": 4,
 "nbformat_minor": 5
}
