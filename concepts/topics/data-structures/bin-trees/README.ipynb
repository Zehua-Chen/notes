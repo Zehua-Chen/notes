{
 "cells": [
  {
   "cell_type": "markdown",
   "metadata": {},
   "source": [
    "# Definition\n",
    "\n",
    "$$\n",
    "T =\n",
    "  \\begin{cases}\n",
    "    \\{ r, T_{l}, T_{r} \\} \\\\\n",
    "    \\{ \\} = \\varnothing\n",
    "  \\end{cases}\n",
    "$$\n",
    "\n",
    "## Full Trees\n",
    "\n",
    "- $ T*{l}, T*{r} $ both have either **0 or 2 children**\n",
    "\n",
    "## Perfect Trees\n",
    "\n",
    "$$\n",
    "\\begin{cases}\n",
    "  P_{-1} = \\{ \\} \\\\\n",
    "  P_{h} = \\{ r, P_{h - 1}, P_{h - 1} \\}\n",
    "\\end{cases}\n",
    "$$\n",
    "\n",
    "- Children of each node has the same height\n",
    "\n",
    "## Complete Trees\n",
    "\n",
    "$$\n",
    "\\begin{cases}\n",
    "  C_{-1} = \\{ \\} \\\\\n",
    "  C_{h} =\n",
    "  \\begin{cases}\n",
    "    \\{r, C_{h - 1}, P_{h - 2} \\} \\\\\n",
    "    \\{r, P_{h - 1}, C_{h - 1} \\} \\\\\n",
    "  \\end{cases}\n",
    "\\end{cases}\n",
    "$$\n",
    "\n",
    "- a perfect tree for every level except the last level, where the level is \n",
    "  pushed to the left\n"
   ]
  },
  {
   "cell_type": "markdown",
   "metadata": {},
   "source": [
    "# Binary Search Tree\n",
    "\n",
    "## Nodes\n",
    "\n",
    "- A **successor of node x** is a node with the smallest value bigger than x\n",
    "- A **predecessor of node x** is a node with the biggest value smaller than x"
   ]
  },
  {
   "cell_type": "markdown",
   "metadata": {},
   "source": []
  }
 ],
 "metadata": {},
 "nbformat": 4,
 "nbformat_minor": 2
}
