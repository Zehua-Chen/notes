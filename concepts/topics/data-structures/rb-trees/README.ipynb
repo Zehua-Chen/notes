{
 "cells": [
  {
   "cell_type": "markdown",
   "metadata": {},
   "source": [
    "# Overview\n",
    "\n",
    "## Black Height\n",
    "\n",
    "The number of black nodes from, but not including, a node x to a leaf is the \n",
    "black height of x ($ bh\\left( x \\right) $)\n",
    "\n",
    "- The black height of a tree is the black height of a root\n"
   ]
  },
  {
   "cell_type": "markdown",
   "metadata": {},
   "source": [
    "# Red Black Tree Properties\n",
    "\n",
    "Every red black tree is a binary tree that satisfy the following properties\n",
    "\n",
    "1. Every node has a colour either red or black.\n",
    "2. The root of the tree is always black.\n",
    "3. Every leaf (NIL) is black\n",
    "4. If a node is red, then both its children are black\n",
    "5. For each node, all simple paths from the node to descendents leaves contain\n",
    "   the same number of black nodes"
   ]
  },
  {
   "cell_type": "markdown",
   "metadata": {},
   "source": [
    "# Augmenting Red Black Tree\n",
    "\n",
    "## Theorem 14.1 \n",
    "\n",
    "Let f be an attribute that augments a red black tree T of n nodes, and suppose\n",
    "that the value of f for each node x depends on only the information in nodes\n",
    "x, `x.left`, and `x.right`, possibly including `x.left.f`, `x.right.f`.\n",
    "\n",
    "Then we can maintain the values of f in all nodes of T during insertion and \n",
    "deletion without asymptotically affecting teh $ O\\left( \\log n \\right) $ \n",
    "performnace of these operations"
   ]
  },
  {
   "cell_type": "markdown",
   "metadata": {},
   "source": []
  }
 ],
 "metadata": {},
 "nbformat": 4,
 "nbformat_minor": 2
}
