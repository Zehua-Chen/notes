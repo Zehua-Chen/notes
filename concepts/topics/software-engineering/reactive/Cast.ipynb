{
 "cells": [
  {
   "cell_type": "code",
   "execution_count": null,
   "metadata": {},
   "outputs": [],
   "source": [
    "from typing import List, Any\n",
    "\n",
    "import reactivex as rx \n",
    "import reactivex.operators as ops"
   ]
  },
  {
   "cell_type": "markdown",
   "metadata": {},
   "source": [
    "# Multicast vs Unicast\n",
    "\n",
    "- **Unicast**: a single producer is observed by a single observer\n",
    "  - Every observer gets different instances of data\n",
    "  - Observation chain is run multiple times\n",
    "- **Multicast**: a single producer is observed by multiple observers\n",
    "  - Every observer gets the same instance of data (from the producer)\n",
    "  - Observation chain is run only once"
   ]
  },
  {
   "cell_type": "markdown",
   "metadata": {},
   "source": [
    "# `share`\n",
    "\n",
    "`share` convert an unicast observable to a multicast observable\n",
    "\n",
    "- Helpful for reducing heavy computation\n",
    "- `share` does not guarantee replaying previous values on subscription; **even when the origin observable has replay properties**"
   ]
  },
  {
   "cell_type": "code",
   "execution_count": null,
   "metadata": {},
   "outputs": [
    {
     "name": "stdout",
     "output_type": "stream",
     "text": [
      "to_upper v\n",
      "unicast a: V\n",
      "to_upper v\n",
      "unicast b: V\n",
      "to_upper v\n",
      "multicast a: V\n",
      "multicast b: V\n"
     ]
    }
   ],
   "source": [
    "def cast():\n",
    "    def subscriber(name: str):\n",
    "        return lambda v: print(f\"{name}: {v}\")\n",
    "\n",
    "    def to_upper(v: str) -> str:\n",
    "        print(f\"to_upper {v}\")\n",
    "        return v.upper()\n",
    "\n",
    "    disposables = []  # type: List[Any]\n",
    "\n",
    "    subject = rx.subject.ReplaySubject()\n",
    "    unicast = subject.pipe(ops.map(to_upper))\n",
    "\n",
    "    disposables.append(unicast.subscribe(subscriber(\"unicast a\")))\n",
    "    disposables.append(unicast.subscribe(subscriber(\"unicast b\")))\n",
    "\n",
    "    multicast = unicast.pipe(ops.share())\n",
    "\n",
    "    # to_upper will only be called once for both subscriber\n",
    "    disposables.append(multicast.subscribe(subscriber(\"multicast a\")))\n",
    "    disposables.append(multicast.subscribe(subscriber(\"multicast b\")))\n",
    "    \n",
    "    subject.on_next(\"v\")\n",
    "\n",
    "    # since share does not entail replay, multicast c will not be called\n",
    "    disposables.append(multicast.subscribe(subscriber(\"multicast c\")))\n",
    "\n",
    "    for disposable in disposables:\n",
    "        disposable.dispose()\n",
    "\n",
    "\n",
    "cast()\n",
    "    "
   ]
  },
  {
   "cell_type": "markdown",
   "metadata": {},
   "source": [
    "To gain replay feature, chain `replay` after `share`"
   ]
  },
  {
   "cell_type": "code",
   "execution_count": null,
   "metadata": {},
   "outputs": [
    {
     "name": "stdout",
     "output_type": "stream",
     "text": [
      "to_upper a\n",
      "a: A\n",
      "b: A\n"
     ]
    }
   ],
   "source": [
    "def multicast_replay():\n",
    "    def subscriber(name: str):\n",
    "        return lambda v: print(f\"{name}: {v}\")\n",
    "\n",
    "    def to_upper(v: str) -> str:\n",
    "        print(f\"to_upper {v}\")\n",
    "        return v.upper()\n",
    "\n",
    "    def id(v):\n",
    "        return v\n",
    "\n",
    "    disposables = []  # type: List[Any]\n",
    "\n",
    "    subject = rx.subject.Subject()\n",
    "    observable = subject.pipe(ops.map(to_upper), ops.share(), ops.replay()) \n",
    "\n",
    "    # connect() is only available if ops.replay is last in pipe\n",
    "    observable.connect()\n",
    "\n",
    "    disposables.append(observable.subscribe(subscriber(\"a\")))\n",
    "    disposables.append(observable.subscribe(subscriber(\"b\")))\n",
    "\n",
    "    subject.on_next(\"a\")\n",
    "\n",
    "    \n",
    "multicast_replay()"
   ]
  },
  {
   "cell_type": "code",
   "execution_count": null,
   "metadata": {},
   "outputs": [],
   "source": []
  }
 ],
 "metadata": {
  "kernelspec": {
   "display_name": "Python 3.10.2 ('jupyter')",
   "language": "python",
   "name": "python3"
  }
 },
 "nbformat": 4,
 "nbformat_minor": 2
}
