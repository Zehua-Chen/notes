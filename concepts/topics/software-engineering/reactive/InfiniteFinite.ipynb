{
 "cells": [
  {
   "cell_type": "code",
   "execution_count": null,
   "metadata": {},
   "outputs": [],
   "source": [
    "import reactivex as rx\n",
    "import reactivex.operators as ops"
   ]
  },
  {
   "cell_type": "markdown",
   "metadata": {},
   "source": [
    "# Overview\n",
    "\n",
    "Using [terms from RxJS](https://rxjs.dev/guide/glossary-and-semantics)\n",
    "\n",
    "- **Finite observable**: observables that `complete`\n",
    "  - **Does not need** explicit **finalization**\n",
    "- **Infinite observable**: observables that **never `complete`**\n",
    "  - **Requires explicit finialization**"
   ]
  },
  {
   "cell_type": "code",
   "execution_count": null,
   "metadata": {},
   "outputs": [
    {
     "name": "stdout",
     "output_type": "stream",
     "text": [
      "finite: a\n"
     ]
    }
   ],
   "source": [
    "def finite_demo():\n",
    "    finite = rx.Subject()\n",
    "    finite.subscribe(lambda v: print(f\"finite: {v}\"))\n",
    "\n",
    "    finite.on_next(\"a\")\n",
    "    finite.on_completed()\n",
    "    \n",
    "    # b will not be printed\n",
    "    finite.on_next(\"b\")\n",
    "\n",
    "\n",
    "finite_demo()"
   ]
  },
  {
   "cell_type": "code",
   "execution_count": null,
   "metadata": {},
   "outputs": [
    {
     "name": "stdout",
     "output_type": "stream",
     "text": [
      "infinite: a\n"
     ]
    }
   ],
   "source": [
    "def infinite_demo():\n",
    "    infinite = rx.Subject()\n",
    "    infinite_subscription = infinite.subscribe(\n",
    "        lambda v: print(f\"infinite: {v}\"))\n",
    "\n",
    "    infinite.on_next(\"a\")\n",
    "    infinite_subscription.dispose()\n",
    "\n",
    "    # b will not be printed\n",
    "    infinite.on_next(\"b\")\n",
    "\n",
    "\n",
    "infinite_demo()"
   ]
  },
  {
   "cell_type": "markdown",
   "metadata": {},
   "source": [
    "# Infinite to Finite\n",
    "\n",
    "Use these operators to convert infinite observables to finite observables\n",
    "\n",
    "- `first`: take the first value and then finishes\n",
    "- `take`: take the first `x` value and then finishes"
   ]
  },
  {
   "cell_type": "code",
   "execution_count": null,
   "metadata": {},
   "outputs": [
    {
     "name": "stdout",
     "output_type": "stream",
     "text": [
      "v = 2\n",
      "complete\n"
     ]
    }
   ],
   "source": [
    "def first():\n",
    "    # subjects are a type of infinite observable\n",
    "    subject = rx.Subject()\n",
    "    finite = subject.pipe(ops.first())\n",
    "\n",
    "    finite.subscribe(\n",
    "        lambda v: print(f\"v = {v}\"), \n",
    "        on_completed=lambda: print(\"complete\"))  \n",
    "\n",
    "    subject.on_next(2)\n",
    "\n",
    "\n",
    "first()"
   ]
  },
  {
   "cell_type": "code",
   "execution_count": null,
   "metadata": {},
   "outputs": [],
   "source": []
  }
 ],
 "metadata": {
  "kernelspec": {
   "display_name": "Python 3.10.2 ('jupyter')",
   "language": "python",
   "name": "python3"
  }
 },
 "nbformat": 4,
 "nbformat_minor": 2
}
