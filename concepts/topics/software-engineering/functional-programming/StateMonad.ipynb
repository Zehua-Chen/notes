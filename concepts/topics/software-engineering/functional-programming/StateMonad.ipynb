{
 "cells": [
  {
   "cell_type": "markdown",
   "id": "61e05937",
   "metadata": {},
   "source": [
    "# Overview"
   ]
  },
  {
   "cell_type": "markdown",
   "id": "5ce4eeca",
   "metadata": {},
   "source": [
    "Definition of state monad\n",
    "\n",
    "```\n",
    "state -> (state, result)\n",
    "```\n",
    "\n",
    "- **A state monad is a function**, rather than a data structure\n",
    "- **Given state**, state monad returns the **next state, and a result**\n",
    "- Functions that **returns a state monad returns a function**\n",
    "\n",
    "Compared to explicitly passing state to functions, **state monad allows state to be implicitly passed to functions, avoiding human errors**"
   ]
  },
  {
   "cell_type": "code",
   "execution_count": null,
   "id": "527c0ac3",
   "metadata": {},
   "outputs": [
    {
     "data": {
      "text/html": [
       "\r\n",
       "<div>\r\n",
       "    <div id='dotnet-interactive-this-cell-5456.Microsoft.DotNet.Interactive.Http.HttpPort' style='display: none'>\r\n",
       "        The below script needs to be able to find the current output cell; this is an easy method to get it.\r\n",
       "    </div>\r\n",
       "    <script type='text/javascript'>\r\n",
       "async function probeAddresses(probingAddresses) {\r\n",
       "    function timeout(ms, promise) {\r\n",
       "        return new Promise(function (resolve, reject) {\r\n",
       "            setTimeout(function () {\r\n",
       "                reject(new Error('timeout'))\r\n",
       "            }, ms)\r\n",
       "            promise.then(resolve, reject)\r\n",
       "        })\r\n",
       "    }\r\n",
       "\r\n",
       "    if (Array.isArray(probingAddresses)) {\r\n",
       "        for (let i = 0; i < probingAddresses.length; i++) {\r\n",
       "\r\n",
       "            let rootUrl = probingAddresses[i];\r\n",
       "\r\n",
       "            if (!rootUrl.endsWith('/')) {\r\n",
       "                rootUrl = `${rootUrl}/`;\r\n",
       "            }\r\n",
       "\r\n",
       "            try {\r\n",
       "                let response = await timeout(1000, fetch(`${rootUrl}discovery`, {\r\n",
       "                    method: 'POST',\r\n",
       "                    cache: 'no-cache',\r\n",
       "                    mode: 'cors',\r\n",
       "                    timeout: 1000,\r\n",
       "                    headers: {\r\n",
       "                        'Content-Type': 'text/plain'\r\n",
       "                    },\r\n",
       "                    body: probingAddresses[i]\r\n",
       "                }));\r\n",
       "\r\n",
       "                if (response.status == 200) {\r\n",
       "                    return rootUrl;\r\n",
       "                }\r\n",
       "            }\r\n",
       "            catch (e) { }\r\n",
       "        }\r\n",
       "    }\r\n",
       "}\r\n",
       "\r\n",
       "function loadDotnetInteractiveApi() {\r\n",
       "    probeAddresses([\"http://192.168.1.19:1024/\", \"http://127.0.0.1:1024/\"])\r\n",
       "        .then((root) => {\r\n",
       "        // use probing to find host url and api resources\r\n",
       "        // load interactive helpers and language services\r\n",
       "        let dotnetInteractiveRequire = require.config({\r\n",
       "        context: '5456.Microsoft.DotNet.Interactive.Http.HttpPort',\r\n",
       "                paths:\r\n",
       "            {\r\n",
       "                'dotnet-interactive': `${root}resources`\r\n",
       "                }\r\n",
       "        }) || require;\r\n",
       "\r\n",
       "            window.dotnetInteractiveRequire = dotnetInteractiveRequire;\r\n",
       "\r\n",
       "            window.configureRequireFromExtension = function(extensionName, extensionCacheBuster) {\r\n",
       "                let paths = {};\r\n",
       "                paths[extensionName] = `${root}extensions/${extensionName}/resources/`;\r\n",
       "                \r\n",
       "                let internalRequire = require.config({\r\n",
       "                    context: extensionCacheBuster,\r\n",
       "                    paths: paths,\r\n",
       "                    urlArgs: `cacheBuster=${extensionCacheBuster}`\r\n",
       "                    }) || require;\r\n",
       "\r\n",
       "                return internalRequire\r\n",
       "            };\r\n",
       "        \r\n",
       "            dotnetInteractiveRequire([\r\n",
       "                    'dotnet-interactive/dotnet-interactive'\r\n",
       "                ],\r\n",
       "                function (dotnet) {\r\n",
       "                    dotnet.init(window);\r\n",
       "                },\r\n",
       "                function (error) {\r\n",
       "                    console.log(error);\r\n",
       "                }\r\n",
       "            );\r\n",
       "        })\r\n",
       "        .catch(error => {console.log(error);});\r\n",
       "    }\r\n",
       "\r\n",
       "// ensure `require` is available globally\r\n",
       "if ((typeof(require) !==  typeof(Function)) || (typeof(require.config) !== typeof(Function))) {\r\n",
       "    let require_script = document.createElement('script');\r\n",
       "    require_script.setAttribute('src', 'https://cdnjs.cloudflare.com/ajax/libs/require.js/2.3.6/require.min.js');\r\n",
       "    require_script.setAttribute('type', 'text/javascript');\r\n",
       "    \r\n",
       "    \r\n",
       "    require_script.onload = function() {\r\n",
       "        loadDotnetInteractiveApi();\r\n",
       "    };\r\n",
       "\r\n",
       "    document.getElementsByTagName('head')[0].appendChild(require_script);\r\n",
       "}\r\n",
       "else {\r\n",
       "    loadDotnetInteractiveApi();\r\n",
       "}\r\n",
       "\r\n",
       "    </script>\r\n",
       "</div>"
      ]
     },
     "metadata": {},
     "output_type": "display_data"
    },
    {
     "name": "stdout",
     "output_type": "stream",
     "text": [
      "{ State = 1\n",
      "  Result = 0 }\n",
      "{ State = 2\n",
      "  Result = false }\n"
     ]
    }
   ],
   "source": [
    "/// Normally the output of the state function is a tuple. \n",
    "/// However, for readibility, we will use a record instead\n",
    "type StateAndAction<'state, 'result> = { State: 'state; Result: 'result }\n",
    "\n",
    "/// State monad are typically called just the `State`. \n",
    "/// We call it `StateMonad` here for clarity\n",
    "type StateMonad<'state, 'result> = 'state -> StateAndAction<'state, 'result>\n",
    "\n",
    "let nextInt: StateMonad<int, int> = \n",
    "    fun i -> { State = i + 1; Result = i }\n",
    "let nextBool: StateMonad<int, bool> = \n",
    "    fun i -> { State = (i + 1); Result = (i % 2 = 0) }\n",
    "\n",
    "printfn $\"{nextInt 0}\"\n",
    "printfn $\"{nextBool 1}\""
   ]
  },
  {
   "cell_type": "markdown",
   "id": "c402d32f",
   "metadata": {},
   "source": [
    "# State Monad Operations"
   ]
  },
  {
   "cell_type": "markdown",
   "id": "0eaddb9d",
   "metadata": {},
   "source": [
    "- `get`: returns an state monad that treats the `state` as the `result`\n",
    "- `put newState`: returns a state monad that accept `newState` as its state\n",
    "- `bind f monad`: returns a state monad that \n",
    "  1. Evalaute `monad` with the state, \n",
    "  2. Use `f` to create a monad from the result of step 1\n",
    "  3. Evaluate the new monad using the state from step 1\n",
    "\n",
    "## Helper Functions\n",
    "\n",
    "- `evaluate state monad`: evaluate the `monad` using `state` and then returns the result"
   ]
  },
  {
   "cell_type": "code",
   "execution_count": null,
   "id": "bf50a2b7",
   "metadata": {},
   "outputs": [
    {
     "data": {
      "text/html": [
       "<div class=\"dni-plaintext\">FSI_0010+StateMonadBuilder</div>"
      ]
     },
     "execution_count": null,
     "metadata": {},
     "output_type": "execute_result"
    }
   ],
   "source": [
    "module StateMonad = \n",
    "    let get: StateMonad<'state, 'state> = \n",
    "        (fun state -> { State = state; Result = state })\n",
    "        \n",
    "    let put (newState: 'state): StateMonad<'state, unit> = \n",
    "        (fun state -> { State = newState; Result = () })\n",
    "    \n",
    "    let evaluate (state: 'state) (monad: StateMonad<'state, 'result>): 'result =\n",
    "        (monad state).Result\n",
    "        \n",
    "    let bind \n",
    "        (f: 'result -> StateMonad<'state, 'result2>) \n",
    "        (monad: StateMonad<'state, 'result>) \n",
    "        : StateMonad<'state, 'result2> = \n",
    "        (fun state -> \n",
    "            let snapshot = monad state\n",
    "            let fMonad = f snapshot.Result\n",
    "            \n",
    "            fMonad snapshot.State)\n",
    "\n",
    "type StateMonadBuilder() =    \n",
    "    member this.Bind (monad, f) = StateMonad.bind f monad\n",
    "    member this.Return (result: 'result): StateMonad<'state, 'result> = \n",
    "        (fun state -> { State = state; Result = result })\n",
    "    \n",
    "let state = new StateMonadBuilder()\n",
    "state"
   ]
  },
  {
   "cell_type": "code",
   "execution_count": null,
   "id": "8f85ff17",
   "metadata": {},
   "outputs": [
    {
     "data": {
      "text/html": [
       "<table><thead><tr><th>Item1</th><th>Item2</th></tr></thead><tbody><tr><td><div class=\"dni-plaintext\">0</div></td><td><div class=\"dni-plaintext\">1</div></td></tr></tbody></table>"
      ]
     },
     "execution_count": null,
     "metadata": {},
     "output_type": "execute_result"
    }
   ],
   "source": [
    "let increment: StateMonad<int, int> = \n",
    "    state {\n",
    "        let! counter = StateMonad.get\n",
    "        do!\n",
    "            StateMonad.put (counter + 1)\n",
    "        return counter\n",
    "    } \n",
    "    \n",
    "let testIncrement = \n",
    "    state {\n",
    "        let! result1 = increment \n",
    "        let! result2 = increment\n",
    "        \n",
    "        return (result1, result2)\n",
    "    }\n",
    "    \n",
    "StateMonad.evaluate 0 testIncrement"
   ]
  },
  {
   "cell_type": "markdown",
   "id": "3eaeb919",
   "metadata": {},
   "source": [
    "- TODO: Indexed state monad\n",
    "  - Enable state transition\n",
    "- TODO: Indexed state transformer\n",
    "- TODO: HList, Shapeless"
   ]
  },
  {
   "cell_type": "markdown",
   "id": "e20cc1d6",
   "metadata": {},
   "source": [
    "# References\n",
    "\n",
    "- [Regaining Control with State Monad and Friends (Felix Mulder)](https://www.youtube.com/watch?v=Pgo73GfHk0U)\n",
    "- [jwosty/StateBuilder.fsx](https://gist.github.com/jwosty/5338fce8a6691bbd9f6f)"
   ]
  },
  {
   "cell_type": "code",
   "execution_count": null,
   "id": "ab7a18e7",
   "metadata": {},
   "outputs": [],
   "source": []
  }
 ],
 "metadata": {
  "kernelspec": {
   "display_name": ".NET (F#)",
   "language": "F#",
   "name": ".net-fsharp"
  }
 },
 "nbformat": 4,
 "nbformat_minor": 5
}
