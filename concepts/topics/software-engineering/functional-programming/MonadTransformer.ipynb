{
 "cells": [
  {
   "cell_type": "markdown",
   "id": "8d846ae7",
   "metadata": {},
   "source": [
    "# Overview\n",
    "\n",
    "Monad transformer combines two monads into a single moand that shares the behavior of two monads\n",
    "\n",
    "- F#'s generics system does not seem to support monad transformer. `type OptionT<'monad, 't> = 'monad<'t option>` does not compile"
   ]
  },
  {
   "cell_type": "code",
   "execution_count": null,
   "id": "36ca8d06",
   "metadata": {},
   "outputs": [],
   "source": []
  }
 ],
 "metadata": {
  "kernelspec": {
   "display_name": ".NET (F#)",
   "language": "F#",
   "name": ".net-fsharp"
  }
 },
 "nbformat": 4,
 "nbformat_minor": 5
}
