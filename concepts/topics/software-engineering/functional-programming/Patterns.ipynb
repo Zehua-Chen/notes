{
 "cells": [
  {
   "cell_type": "markdown",
   "id": "58c51146",
   "metadata": {},
   "source": [
    "# Overview"
   ]
  },
  {
   "cell_type": "markdown",
   "id": "dc171854",
   "metadata": {},
   "source": [
    "- Strive for totality\n",
    "- Use static types for domain modeling and documentation\n",
    "- Parameterize data and behavior\n",
    "- Function types are interfaces\n",
    "- Partial application\n",
    "- Use partial application to do dependency injection\n",
    "- Continuations\n",
    "- [**Monad**](Monad.ipynb)\n",
    "- **Maps**\n",
    "- **Manoids**"
   ]
  },
  {
   "cell_type": "markdown",
   "id": "069b256a",
   "metadata": {},
   "source": [
    "# Strive for Totality"
   ]
  },
  {
   "cell_type": "markdown",
   "id": "934b3200",
   "metadata": {},
   "source": [
    "Function should behave as their types have specified\n",
    "\n",
    "- Ex. `int dividedBy12(int x)` should not throw error even when passed `0`\n",
    "  - The function promises to return `int`\n",
    "  - The function's parameter does not say `0` is an invalid argument"
   ]
  },
  {
   "cell_type": "markdown",
   "id": "dbc04ed1",
   "metadata": {},
   "source": [
    "# Use Static Types for Domain Modeling and Documentation"
   ]
  },
  {
   "cell_type": "markdown",
   "id": "4a619b31",
   "metadata": {},
   "source": [
    "TODO: https://fsharpforfunandprofit.com/ddd/"
   ]
  },
  {
   "cell_type": "markdown",
   "id": "07cf9185",
   "metadata": {},
   "source": [
    "# Parameterize Data and Behavior"
   ]
  },
  {
   "cell_type": "markdown",
   "id": "4fb466b2",
   "metadata": {},
   "source": [
    "- `action`: the bahavior\n",
    "- `aList`: the data"
   ]
  },
  {
   "cell_type": "code",
   "execution_count": null,
   "id": "0a0eb2e6",
   "metadata": {},
   "outputs": [
    {
     "data": {
      "text/html": [
       "\r\n",
       "<div>\r\n",
       "    <div id='dotnet-interactive-this-cell-33057.Microsoft.DotNet.Interactive.Http.HttpPort' style='display: none'>\r\n",
       "        The below script needs to be able to find the current output cell; this is an easy method to get it.\r\n",
       "    </div>\r\n",
       "    <script type='text/javascript'>\r\n",
       "async function probeAddresses(probingAddresses) {\r\n",
       "    function timeout(ms, promise) {\r\n",
       "        return new Promise(function (resolve, reject) {\r\n",
       "            setTimeout(function () {\r\n",
       "                reject(new Error('timeout'))\r\n",
       "            }, ms)\r\n",
       "            promise.then(resolve, reject)\r\n",
       "        })\r\n",
       "    }\r\n",
       "\r\n",
       "    if (Array.isArray(probingAddresses)) {\r\n",
       "        for (let i = 0; i < probingAddresses.length; i++) {\r\n",
       "\r\n",
       "            let rootUrl = probingAddresses[i];\r\n",
       "\r\n",
       "            if (!rootUrl.endsWith('/')) {\r\n",
       "                rootUrl = `${rootUrl}/`;\r\n",
       "            }\r\n",
       "\r\n",
       "            try {\r\n",
       "                let response = await timeout(1000, fetch(`${rootUrl}discovery`, {\r\n",
       "                    method: 'POST',\r\n",
       "                    cache: 'no-cache',\r\n",
       "                    mode: 'cors',\r\n",
       "                    timeout: 1000,\r\n",
       "                    headers: {\r\n",
       "                        'Content-Type': 'text/plain'\r\n",
       "                    },\r\n",
       "                    body: probingAddresses[i]\r\n",
       "                }));\r\n",
       "\r\n",
       "                if (response.status == 200) {\r\n",
       "                    return rootUrl;\r\n",
       "                }\r\n",
       "            }\r\n",
       "            catch (e) { }\r\n",
       "        }\r\n",
       "    }\r\n",
       "}\r\n",
       "\r\n",
       "function loadDotnetInteractiveApi() {\r\n",
       "    probeAddresses([\"http://192.168.1.19:1024/\", \"http://127.0.0.1:1024/\"])\r\n",
       "        .then((root) => {\r\n",
       "        // use probing to find host url and api resources\r\n",
       "        // load interactive helpers and language services\r\n",
       "        let dotnetInteractiveRequire = require.config({\r\n",
       "        context: '33057.Microsoft.DotNet.Interactive.Http.HttpPort',\r\n",
       "                paths:\r\n",
       "            {\r\n",
       "                'dotnet-interactive': `${root}resources`\r\n",
       "                }\r\n",
       "        }) || require;\r\n",
       "\r\n",
       "            window.dotnetInteractiveRequire = dotnetInteractiveRequire;\r\n",
       "\r\n",
       "            window.configureRequireFromExtension = function(extensionName, extensionCacheBuster) {\r\n",
       "                let paths = {};\r\n",
       "                paths[extensionName] = `${root}extensions/${extensionName}/resources/`;\r\n",
       "                \r\n",
       "                let internalRequire = require.config({\r\n",
       "                    context: extensionCacheBuster,\r\n",
       "                    paths: paths,\r\n",
       "                    urlArgs: `cacheBuster=${extensionCacheBuster}`\r\n",
       "                    }) || require;\r\n",
       "\r\n",
       "                return internalRequire\r\n",
       "            };\r\n",
       "        \r\n",
       "            dotnetInteractiveRequire([\r\n",
       "                    'dotnet-interactive/dotnet-interactive'\r\n",
       "                ],\r\n",
       "                function (dotnet) {\r\n",
       "                    dotnet.init(window);\r\n",
       "                },\r\n",
       "                function (error) {\r\n",
       "                    console.log(error);\r\n",
       "                }\r\n",
       "            );\r\n",
       "        })\r\n",
       "        .catch(error => {console.log(error);});\r\n",
       "    }\r\n",
       "\r\n",
       "// ensure `require` is available globally\r\n",
       "if ((typeof(require) !==  typeof(Function)) || (typeof(require.config) !== typeof(Function))) {\r\n",
       "    let require_script = document.createElement('script');\r\n",
       "    require_script.setAttribute('src', 'https://cdnjs.cloudflare.com/ajax/libs/require.js/2.3.6/require.min.js');\r\n",
       "    require_script.setAttribute('type', 'text/javascript');\r\n",
       "    \r\n",
       "    \r\n",
       "    require_script.onload = function() {\r\n",
       "        loadDotnetInteractiveApi();\r\n",
       "    };\r\n",
       "\r\n",
       "    document.getElementsByTagName('head')[0].appendChild(require_script);\r\n",
       "}\r\n",
       "else {\r\n",
       "    loadDotnetInteractiveApi();\r\n",
       "}\r\n",
       "\r\n",
       "    </script>\r\n",
       "</div>"
      ]
     },
     "metadata": {},
     "output_type": "display_data"
    }
   ],
   "source": [
    "let printList (action: 'a -> _) (aList: 'a list): unit = \n",
    "    for i in aList do\n",
    "        action i"
   ]
  },
  {
   "cell_type": "code",
   "execution_count": null,
   "id": "19ed19ab",
   "metadata": {},
   "outputs": [
    {
     "name": "stdout",
     "output_type": "stream",
     "text": [
      "1\n",
      "2\n",
      "3\n"
     ]
    }
   ],
   "source": [
    "printList (fun i -> printfn $\"{i}\") [1; 2; 3;]"
   ]
  },
  {
   "cell_type": "markdown",
   "id": "a5860554",
   "metadata": {},
   "source": [
    "# Function Types are Interfaces"
   ]
  },
  {
   "cell_type": "markdown",
   "id": "ee64e1fb",
   "metadata": {},
   "source": [
    "Well designed interfaces in OO languages tend to only have one function"
   ]
  },
  {
   "cell_type": "code",
   "execution_count": null,
   "id": "87c46d0d",
   "metadata": {},
   "outputs": [],
   "source": [
    "type IFoo = int -> int"
   ]
  },
  {
   "cell_type": "markdown",
   "id": "cedd1d3b",
   "metadata": {},
   "source": [
    "# Partial Application"
   ]
  },
  {
   "cell_type": "markdown",
   "id": "4ad084ad",
   "metadata": {},
   "source": [
    "`hello` is partially applied `printfn` "
   ]
  },
  {
   "cell_type": "code",
   "execution_count": null,
   "id": "9c349254",
   "metadata": {},
   "outputs": [
    {
     "name": "stdout",
     "output_type": "stream",
     "text": [
      "my name is peter\n",
      "my name is brian\n"
     ]
    }
   ],
   "source": [
    "let names = [\"peter\"; \"brian\"]\n",
    "let hello = printfn \"my name is %s\"\n",
    "\n",
    "names |> List.iter hello"
   ]
  },
  {
   "cell_type": "markdown",
   "id": "ed5d95ff",
   "metadata": {},
   "source": [
    "# Use Partial Application for Dependency Injection"
   ]
  },
  {
   "cell_type": "markdown",
   "id": "9870a2e0",
   "metadata": {},
   "source": [
    "Use partial application to \"initialize\" the service"
   ]
  },
  {
   "cell_type": "code",
   "execution_count": null,
   "id": "bda41f8e",
   "metadata": {},
   "outputs": [
    {
     "data": {
      "text/plain": [
       "a"
      ]
     },
     "execution_count": null,
     "metadata": {},
     "output_type": "execute_result"
    }
   ],
   "source": [
    "type Customer = string\n",
    "type CustomerID = int\n",
    "type GetCustomerService = CustomerID -> Customer\n",
    "\n",
    "let getCustomer (database: Map<CustomerID, Customer>) (id: CustomerID): Customer = \n",
    "    database.[id]\n",
    "    \n",
    "let database = Map [ (1, \"a\"); (2, \"b\") ]\n",
    "let getCustomerService = getCustomer database\n",
    "\n",
    "getCustomerService 1"
   ]
  },
  {
   "cell_type": "markdown",
   "id": "649a7696",
   "metadata": {},
   "source": [
    "# Continuations"
   ]
  },
  {
   "cell_type": "code",
   "execution_count": null,
   "id": "ced861d4",
   "metadata": {},
   "outputs": [
    {
     "name": "stdout",
     "output_type": "stream",
     "text": [
      "success 0\n",
      "fail 0\n"
     ]
    }
   ],
   "source": [
    "let divide (success: int -> 'a) (fail: int -> 'a) (top: int) (bottom: int): 'a =\n",
    "    if bottom = 0 then fail bottom\n",
    "    else success (top / bottom)\n",
    "    \n",
    "let divide1 = divide (fun i -> printfn $\"success {i}\") (fun i -> printfn $\"fail {i}\")\n",
    "\n",
    "divide1 1 2\n",
    "divide1 1 0"
   ]
  },
  {
   "cell_type": "markdown",
   "id": "baed630a",
   "metadata": {},
   "source": [
    "# Maps"
   ]
  },
  {
   "cell_type": "markdown",
   "id": "c972760b",
   "metadata": {},
   "source": [
    "Aka. lifting. Mappable types are functors\n",
    "\n",
    "- `Option.map`\n",
    "- `List.map`"
   ]
  },
  {
   "cell_type": "code",
   "execution_count": null,
   "id": "b892ae64",
   "metadata": {},
   "outputs": [
    {
     "data": {
      "text/html": [
       "<table><thead><tr><th>Value</th></tr></thead><tbody><tr><td><div class=\"dni-plaintext\">43</div></td></tr></tbody></table>"
      ]
     },
     "execution_count": null,
     "metadata": {},
     "output_type": "execute_result"
    }
   ],
   "source": [
    "let add42 (x: int): int = x + 42\n",
    "\n",
    "Some 1 |> Option.map add42"
   ]
  },
  {
   "cell_type": "markdown",
   "id": "e392ddfd",
   "metadata": {},
   "source": [
    "# Monoids"
   ]
  },
  {
   "cell_type": "markdown",
   "id": "76eed081",
   "metadata": {},
   "source": [
    "A monoid follows the following rules\n",
    "\n",
    "- **Rule 1, Closure**: result of combining two things is always another one of the things\n",
    "  - Benefit: converts parwise operation into operations that work on lists (`List.reduce`)\n",
    "- **Rule 2, Associativity**: combining more than two things, which parwise combination you do first doesn't matter\n",
    "  - Benefit: divide and conquer, parallelization and incremental accumulation\n",
    "- **Rule 3, Identity element**: there is a \"zero\" such that when you combine anything with \"zero\", you get the original thing back \n",
    "  - Benefit: initial value for empty or missing data\n",
    "  \n",
    "TODO: Monoid homomorphism"
   ]
  },
  {
   "cell_type": "markdown",
   "id": "284c6421",
   "metadata": {},
   "source": [
    "### Examples\n",
    "\n",
    "- Map followed by reduce"
   ]
  },
  {
   "cell_type": "markdown",
   "id": "be190df9",
   "metadata": {},
   "source": [
    "# References\n",
    "\n",
    "- [Functional Design Patterns - Scott Wlaschin](https://www.youtube.com/watch?v=srQt1NAHYC0&list=WL&index=15)\n",
    "- [F# Patterns](https://fsharpforfunandprofit.com/fppatterns/)"
   ]
  },
  {
   "cell_type": "code",
   "execution_count": null,
   "id": "f037b3f7",
   "metadata": {},
   "outputs": [],
   "source": []
  }
 ],
 "metadata": {
  "kernelspec": {
   "display_name": ".NET (F#)",
   "language": "F#",
   "name": ".net-fsharp"
  }
 },
 "nbformat": 4,
 "nbformat_minor": 5
}
