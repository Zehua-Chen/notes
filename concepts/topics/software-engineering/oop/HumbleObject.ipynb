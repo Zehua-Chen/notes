{
 "cells": [
  {
   "cell_type": "markdown",
   "metadata": {},
   "source": [
    "# Humble Objects"
   ]
  },
  {
   "cell_type": "markdown",
   "metadata": {},
   "source": [
    "## Problem Description\n",
    "\n",
    "Sometimes, a type can be hard to test like `Monobehavior` in Unity."
   ]
  },
  {
   "cell_type": "code",
   "execution_count": null,
   "metadata": {},
   "outputs": [],
   "source": [
    "class Behavior:\n",
    "    def update(self) -> None:\n",
    "        pass \n",
    "\n",
    "    def draw(self, value: int) -> None:\n",
    "        print(f\"draw {value}\")"
   ]
  },
  {
   "cell_type": "code",
   "execution_count": null,
   "metadata": {},
   "outputs": [],
   "source": [
    "class HardToTest1(Behavior):\n",
    "    def __init__(self) -> None:\n",
    "        super().__init__()\n",
    "\n",
    "        self.a = 1\n",
    "        self.b = 1\n",
    "\n",
    "    def update(self) -> None:\n",
    "        super().update()\n",
    "        \n",
    "        self.a = self.b + self.a\n",
    "\n",
    "        self.draw(self.a)\n",
    "        self.draw(self.b)"
   ]
  },
  {
   "cell_type": "code",
   "execution_count": null,
   "metadata": {},
   "outputs": [
    {
     "name": "stdout",
     "output_type": "stream",
     "text": [
      "draw 2\n",
      "draw 1\n"
     ]
    }
   ],
   "source": [
    "test1 = HardToTest1()\n",
    "test1.update()"
   ]
  },
  {
   "cell_type": "markdown",
   "metadata": {},
   "source": [
    "## Solution\n",
    "\n",
    "Move functionality from the hard to test type to types that are easier to test.\n",
    "\n",
    "- Follows the principle of [Composition Over Inheritance](https://martinfowler.com/bliki/HumbleObject.html)"
   ]
  },
  {
   "cell_type": "code",
   "execution_count": null,
   "metadata": {},
   "outputs": [],
   "source": [
    "class MathDelegate:\n",
    "    def __init__(self) -> None:\n",
    "        self.a = 1\n",
    "        self.b = 1\n",
    "\n",
    "    def compute(self) -> None:\n",
    "        self.a = self.b + self.a\n",
    "\n",
    "\n",
    "class HardToTest2(Behavior):\n",
    "    def __init__(self) -> None:\n",
    "        super().__init__()\n",
    "\n",
    "        self.math = MathDelegate()\n",
    "\n",
    "    def update(self) -> None:\n",
    "        super().update()\n",
    "        \n",
    "        self.math.compute()\n",
    "\n",
    "        self.draw(self.math.a)\n",
    "        self.draw(self.math.b)"
   ]
  },
  {
   "cell_type": "code",
   "execution_count": null,
   "metadata": {},
   "outputs": [
    {
     "name": "stdout",
     "output_type": "stream",
     "text": [
      "draw 2\n",
      "draw 1\n"
     ]
    }
   ],
   "source": [
    "test2 = HardToTest2()\n",
    "test2.update()"
   ]
  },
  {
   "cell_type": "markdown",
   "metadata": {},
   "source": [
    "# References\n",
    "\n",
    "- [HumbleObject](https://martinfowler.com/bliki/HumbleObject.html)"
   ]
  },
  {
   "cell_type": "code",
   "execution_count": null,
   "metadata": {},
   "outputs": [],
   "source": []
  }
 ],
 "metadata": {
  "kernelspec": {
   "display_name": ".NET (C#)",
   "language": "python",
   "name": "python3"
  }
 },
 "nbformat": 4,
 "nbformat_minor": 2
}
